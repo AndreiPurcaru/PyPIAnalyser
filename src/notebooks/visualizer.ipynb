{
 "cells": [
  {
   "cell_type": "code",
   "execution_count": 1,
   "metadata": {
    "collapsed": true,
    "pycharm": {
     "name": "#%%\n"
    }
   },
   "outputs": [],
   "source": [
    "\n",
    "import multiprocessing\n",
    "import re\n",
    "from multiprocessing import Pool\n",
    "from src.lib import extract_semantic_version\n",
    "import numpy as np\n",
    "import pandas as pd\n",
    "from IPython.core.display_functions import display\n",
    "\n",
    "pd.set_option('display.max_columns', 100)"
   ]
  },
  {
   "cell_type": "code",
   "execution_count": 2,
   "outputs": [
    {
     "data": {
      "text/plain": "                                                     info  last_serial  \\\n0       {'author': 'Dmitry Berezovsky', 'author_email'...      8973353   \n1       {'author': 'Abraham', 'author_email': 'abraham...      9481777   \n2       {'author': 'Sergei Minaev', 'author_email': 'i...      9764135   \n3       {'author': 'Wolfgang Schnerring <wosc@wosc.de>...     11184293   \n4       {'author': 'Thea Barnes', 'author_email': 'the...     11644911   \n...                                                   ...          ...   \n169616  {'author': 'Amazon Web Services', 'author_emai...     13647017   \n169617  {'author': 'Amazon Web Services', 'author_emai...     13647009   \n169618  {'author': '', 'author_email': '', 'bugtrack_u...     13625952   \n169619  {'author': 'Amazon Web Services', 'author_emai...     13647157   \n169620  {'author': 'Silvan Schmidt', 'author_email': '...     13476925   \n\n                                                 releases  \\\n0       {'0.0.8': [{'comment_text': '', 'digests': {'m...   \n1       {'1.0.0': [{'comment_text': '', 'digests': {'m...   \n2       {'0.5': [{'comment_text': '', 'digests': {'md5...   \n3       {'1.0.4': [{'comment_text': '', 'digests': {'m...   \n4       {'0.0.1': [{'comment_text': '', 'digests': {'m...   \n...                                                   ...   \n169616  {'1.154.0': [{'comment_text': '', 'digests': {...   \n169617  {'1.154.0': [{'comment_text': '', 'digests': {...   \n169618  {'0.0.23': [{'comment_text': '', 'digests': {'...   \n169619  {'1.154.0': [{'comment_text': '', 'digests': {...   \n169620  {'1.1.0': [{'comment_text': '', 'digests': {'m...   \n\n                                                     urls vulnerabilities  \n0       [{'comment_text': '', 'digests': {'md5': '360c...              []  \n1       [{'comment_text': '', 'digests': {'md5': 'dfef...              []  \n2       [{'comment_text': '', 'digests': {'md5': 'b612...              []  \n3       [{'comment_text': '', 'digests': {'md5': '55ed...              []  \n4       [{'comment_text': '', 'digests': {'md5': '3613...              []  \n...                                                   ...             ...  \n169616  [{'comment_text': '', 'digests': {'md5': 'ae15...              []  \n169617  [{'comment_text': '', 'digests': {'md5': '9bc9...              []  \n169618  [{'comment_text': '', 'digests': {'md5': '0d0a...              []  \n169619  [{'comment_text': '', 'digests': {'md5': 'dde6...              []  \n169620  [{'comment_text': '', 'digests': {'md5': '06db...              []  \n\n[169621 rows x 5 columns]",
      "text/html": "<div>\n<style scoped>\n    .dataframe tbody tr th:only-of-type {\n        vertical-align: middle;\n    }\n\n    .dataframe tbody tr th {\n        vertical-align: top;\n    }\n\n    .dataframe thead th {\n        text-align: right;\n    }\n</style>\n<table border=\"1\" class=\"dataframe\">\n  <thead>\n    <tr style=\"text-align: right;\">\n      <th></th>\n      <th>info</th>\n      <th>last_serial</th>\n      <th>releases</th>\n      <th>urls</th>\n      <th>vulnerabilities</th>\n    </tr>\n  </thead>\n  <tbody>\n    <tr>\n      <th>0</th>\n      <td>{'author': 'Dmitry Berezovsky', 'author_email'...</td>\n      <td>8973353</td>\n      <td>{'0.0.8': [{'comment_text': '', 'digests': {'m...</td>\n      <td>[{'comment_text': '', 'digests': {'md5': '360c...</td>\n      <td>[]</td>\n    </tr>\n    <tr>\n      <th>1</th>\n      <td>{'author': 'Abraham', 'author_email': 'abraham...</td>\n      <td>9481777</td>\n      <td>{'1.0.0': [{'comment_text': '', 'digests': {'m...</td>\n      <td>[{'comment_text': '', 'digests': {'md5': 'dfef...</td>\n      <td>[]</td>\n    </tr>\n    <tr>\n      <th>2</th>\n      <td>{'author': 'Sergei Minaev', 'author_email': 'i...</td>\n      <td>9764135</td>\n      <td>{'0.5': [{'comment_text': '', 'digests': {'md5...</td>\n      <td>[{'comment_text': '', 'digests': {'md5': 'b612...</td>\n      <td>[]</td>\n    </tr>\n    <tr>\n      <th>3</th>\n      <td>{'author': 'Wolfgang Schnerring &lt;wosc@wosc.de&gt;...</td>\n      <td>11184293</td>\n      <td>{'1.0.4': [{'comment_text': '', 'digests': {'m...</td>\n      <td>[{'comment_text': '', 'digests': {'md5': '55ed...</td>\n      <td>[]</td>\n    </tr>\n    <tr>\n      <th>4</th>\n      <td>{'author': 'Thea Barnes', 'author_email': 'the...</td>\n      <td>11644911</td>\n      <td>{'0.0.1': [{'comment_text': '', 'digests': {'m...</td>\n      <td>[{'comment_text': '', 'digests': {'md5': '3613...</td>\n      <td>[]</td>\n    </tr>\n    <tr>\n      <th>...</th>\n      <td>...</td>\n      <td>...</td>\n      <td>...</td>\n      <td>...</td>\n      <td>...</td>\n    </tr>\n    <tr>\n      <th>169616</th>\n      <td>{'author': 'Amazon Web Services', 'author_emai...</td>\n      <td>13647017</td>\n      <td>{'1.154.0': [{'comment_text': '', 'digests': {...</td>\n      <td>[{'comment_text': '', 'digests': {'md5': 'ae15...</td>\n      <td>[]</td>\n    </tr>\n    <tr>\n      <th>169617</th>\n      <td>{'author': 'Amazon Web Services', 'author_emai...</td>\n      <td>13647009</td>\n      <td>{'1.154.0': [{'comment_text': '', 'digests': {...</td>\n      <td>[{'comment_text': '', 'digests': {'md5': '9bc9...</td>\n      <td>[]</td>\n    </tr>\n    <tr>\n      <th>169618</th>\n      <td>{'author': '', 'author_email': '', 'bugtrack_u...</td>\n      <td>13625952</td>\n      <td>{'0.0.23': [{'comment_text': '', 'digests': {'...</td>\n      <td>[{'comment_text': '', 'digests': {'md5': '0d0a...</td>\n      <td>[]</td>\n    </tr>\n    <tr>\n      <th>169619</th>\n      <td>{'author': 'Amazon Web Services', 'author_emai...</td>\n      <td>13647157</td>\n      <td>{'1.154.0': [{'comment_text': '', 'digests': {...</td>\n      <td>[{'comment_text': '', 'digests': {'md5': 'dde6...</td>\n      <td>[]</td>\n    </tr>\n    <tr>\n      <th>169620</th>\n      <td>{'author': 'Silvan Schmidt', 'author_email': '...</td>\n      <td>13476925</td>\n      <td>{'1.1.0': [{'comment_text': '', 'digests': {'m...</td>\n      <td>[{'comment_text': '', 'digests': {'md5': '06db...</td>\n      <td>[]</td>\n    </tr>\n  </tbody>\n</table>\n<p>169621 rows × 5 columns</p>\n</div>"
     },
     "execution_count": 2,
     "metadata": {},
     "output_type": "execute_result"
    }
   ],
   "source": [
    "pypi_data = pd.read_json('../../data/repology/pypicache.json')\n",
    "pypi_data"
   ],
   "metadata": {
    "collapsed": false,
    "pycharm": {
     "name": "#%%\n"
    }
   }
  },
  {
   "cell_type": "markdown",
   "source": [
    "### Converting Info JSON to a DataFrame"
   ],
   "metadata": {
    "collapsed": false,
    "pycharm": {
     "name": "#%% md\n"
    }
   }
  },
  {
   "cell_type": "code",
   "execution_count": 3,
   "outputs": [
    {
     "data": {
      "text/plain": "                                name  version  \\\n0                          ws-sizzle    0.0.8   \n1                          ws-sizzle    0.0.8   \n2                          ws-sizzle    0.0.8   \n3                          ws-sizzle    0.0.8   \n4                          ws-sizzle    0.0.8   \n...                              ...      ...   \n660143  aws-cdk.aws-s3-notifications  1.154.0   \n660144                         peapy    1.1.0   \n660145                         peapy    1.1.0   \n660146                         peapy    1.1.0   \n660147                         peapy    1.1.0   \n\n                                   dependency               author  \n0                         json-rpc (>=1.13.0)    Dmitry Berezovsky  \n1                            pydantic (>=1.6)    Dmitry Berezovsky  \n2                aiohttp ; extra == 'aiohttp'    Dmitry Berezovsky  \n3       requests ; extra == 'requests-client'    Dmitry Berezovsky  \n4                tornado ; extra == 'tornado'    Dmitry Berezovsky  \n...                                       ...                  ...  \n660143                  publication (>=0.0.3)  Amazon Web Services  \n660144                  pygame (==2.1.3.dev4)       Silvan Schmidt  \n660145                               keyboard       Silvan Schmidt  \n660146                                  mouse       Silvan Schmidt  \n660147                                shapely       Silvan Schmidt  \n\n[660148 rows x 4 columns]",
      "text/html": "<div>\n<style scoped>\n    .dataframe tbody tr th:only-of-type {\n        vertical-align: middle;\n    }\n\n    .dataframe tbody tr th {\n        vertical-align: top;\n    }\n\n    .dataframe thead th {\n        text-align: right;\n    }\n</style>\n<table border=\"1\" class=\"dataframe\">\n  <thead>\n    <tr style=\"text-align: right;\">\n      <th></th>\n      <th>name</th>\n      <th>version</th>\n      <th>dependency</th>\n      <th>author</th>\n    </tr>\n  </thead>\n  <tbody>\n    <tr>\n      <th>0</th>\n      <td>ws-sizzle</td>\n      <td>0.0.8</td>\n      <td>json-rpc (&gt;=1.13.0)</td>\n      <td>Dmitry Berezovsky</td>\n    </tr>\n    <tr>\n      <th>1</th>\n      <td>ws-sizzle</td>\n      <td>0.0.8</td>\n      <td>pydantic (&gt;=1.6)</td>\n      <td>Dmitry Berezovsky</td>\n    </tr>\n    <tr>\n      <th>2</th>\n      <td>ws-sizzle</td>\n      <td>0.0.8</td>\n      <td>aiohttp ; extra == 'aiohttp'</td>\n      <td>Dmitry Berezovsky</td>\n    </tr>\n    <tr>\n      <th>3</th>\n      <td>ws-sizzle</td>\n      <td>0.0.8</td>\n      <td>requests ; extra == 'requests-client'</td>\n      <td>Dmitry Berezovsky</td>\n    </tr>\n    <tr>\n      <th>4</th>\n      <td>ws-sizzle</td>\n      <td>0.0.8</td>\n      <td>tornado ; extra == 'tornado'</td>\n      <td>Dmitry Berezovsky</td>\n    </tr>\n    <tr>\n      <th>...</th>\n      <td>...</td>\n      <td>...</td>\n      <td>...</td>\n      <td>...</td>\n    </tr>\n    <tr>\n      <th>660143</th>\n      <td>aws-cdk.aws-s3-notifications</td>\n      <td>1.154.0</td>\n      <td>publication (&gt;=0.0.3)</td>\n      <td>Amazon Web Services</td>\n    </tr>\n    <tr>\n      <th>660144</th>\n      <td>peapy</td>\n      <td>1.1.0</td>\n      <td>pygame (==2.1.3.dev4)</td>\n      <td>Silvan Schmidt</td>\n    </tr>\n    <tr>\n      <th>660145</th>\n      <td>peapy</td>\n      <td>1.1.0</td>\n      <td>keyboard</td>\n      <td>Silvan Schmidt</td>\n    </tr>\n    <tr>\n      <th>660146</th>\n      <td>peapy</td>\n      <td>1.1.0</td>\n      <td>mouse</td>\n      <td>Silvan Schmidt</td>\n    </tr>\n    <tr>\n      <th>660147</th>\n      <td>peapy</td>\n      <td>1.1.0</td>\n      <td>shapely</td>\n      <td>Silvan Schmidt</td>\n    </tr>\n  </tbody>\n</table>\n<p>660148 rows × 4 columns</p>\n</div>"
     },
     "execution_count": 3,
     "metadata": {},
     "output_type": "execute_result"
    }
   ],
   "source": [
    "# pypi_data['info'].map(lambda x: x['author'])\n",
    "# df = pypi_data['info'].apply(pd.Series) --- Slow in general. For the given case, just as fast as json_normalize (without a set max level) as that attempts to unnest the entire json object. ~ 30 seconds\n",
    "# df = pd.json_normalize(pypi_data['info']) --- Slow due to previously mentioned unnesting. ~ 30 seconds\n",
    "# df = pd.json_normalize(pypi_data['info'], max_level=0) --- Faster. ~ 5 seconds\n",
    "# df = pd.DataFrame(pypi_data['info'].values.tolist()) --- Fastest. ~ 0.5 seconds\n",
    "\n",
    "info_df = pd.DataFrame(pypi_data['info'].values.tolist())\n",
    "# display(info_df)\n",
    "info_df = info_df[['name', 'version', 'requires_dist', 'author']]\n",
    "# Rename headers to make it more readable\n",
    "info_df.rename(columns={'requires_dist': 'dependency', }, inplace=True)\n",
    "info_df = info_df.explode('dependency').reset_index(drop=True)\n",
    "info_df"
   ],
   "metadata": {
    "collapsed": false,
    "pycharm": {
     "name": "#%%\n"
    }
   }
  },
  {
   "cell_type": "code",
   "execution_count": null,
   "outputs": [
    {
     "name": "stdout",
     "output_type": "stream",
     "text": [
      "I made it here!!!\n"
     ]
    }
   ],
   "source": [
    "# compiled_rx = re.compile(r'\\((?P<version>(\\w+|\\.|=|!|>|<)*)\\)')\n",
    "# cores = multiprocessing.cpu_count()\n",
    "#\n",
    "# chunks = np.array_split(info_df['dependency'], cores)\n",
    "# print(\"I made it here!!!\")\n",
    "#\n",
    "# with Pool(cores) as pool:\n",
    "#     processed = pd.concat(pool.map(extract_semantic_version, chunks), ignore_index=True)\n",
    "\n",
    "# processed\n",
    "# info_df.dependency.str.extract(compiled_rx)"
   ],
   "metadata": {
    "collapsed": false,
    "pycharm": {
     "name": "#%%\n",
     "is_executing": true
    }
   }
  },
  {
   "cell_type": "markdown",
   "source": [
    "## Converting Releases JSON to a DataFrame\n",
    "Decided against using releases as they do not contain meaningful information. Most of the time they only contain the most recent version that can be recovered from the info JSON"
   ],
   "metadata": {
    "collapsed": false,
    "pycharm": {
     "name": "#%% md\n"
    }
   }
  },
  {
   "cell_type": "code",
   "execution_count": 46,
   "outputs": [
    {
     "data": {
      "text/plain": "0           (0.0.8)\n1           (1.0.0)\n2             (0.5)\n3           (1.0.4)\n4           (0.0.1)\n            ...    \n169616    (1.154.0)\n169617    (1.154.0)\n169618     (0.0.23)\n169619    (1.154.0)\n169620      (1.1.0)\nName: releases, Length: 169621, dtype: object"
     },
     "execution_count": 46,
     "metadata": {},
     "output_type": "execute_result"
    }
   ],
   "source": [
    "# releases_df = pd.DataFrame(pypi_data['releases'].values.tolist()) --- Runs out of memory\n",
    "# releases_df = pypi_data['releases'].map(lambda x: x.keys())"
   ],
   "metadata": {
    "collapsed": false,
    "pycharm": {
     "name": "#%%\n"
    }
   }
  },
  {
   "cell_type": "code",
   "execution_count": 11,
   "outputs": [
    {
     "data": {
      "text/plain": "{'author': 'Dmitry Berezovsky',\n 'author_email': '',\n 'bugtrack_url': None,\n 'classifiers': ['Development Status :: 3 - Alpha',\n  'Intended Audience :: Developers',\n  'License :: OSI Approved :: MIT License',\n  'Programming Language :: Python :: 3',\n  'Programming Language :: Python :: 3.7',\n  'Topic :: Internet',\n  'Topic :: Internet :: WWW/HTTP',\n  'Topic :: Software Development :: Libraries :: Python Modules'],\n 'description_content_type': '',\n 'docs_url': None,\n 'download_url': '',\n 'downloads': {'last_day': -1, 'last_month': -1, 'last_week': -1},\n 'home_page': 'https://github.com/corvis/ws-sizzle',\n 'keywords': 'json,json-rpc,rpc,jsonrpc,jsonrpc-websockets,bidirectional-jsonrpc',\n 'license': 'MIT',\n 'maintainer': '',\n 'maintainer_email': '',\n 'name': 'ws-sizzle',\n 'package_url': 'https://pypi.org/project/ws-sizzle/',\n 'platform': '',\n 'project_url': 'https://pypi.org/project/ws-sizzle/',\n 'project_urls': {'Homepage': 'https://github.com/corvis/ws-sizzle'},\n 'release_url': 'https://pypi.org/project/ws-sizzle/0.0.8/',\n 'requires_dist': ['json-rpc (>=1.13.0)',\n  'pydantic (>=1.6)',\n  \"aiohttp ; extra == 'aiohttp'\",\n  \"requests ; extra == 'requests-client'\",\n  \"tornado ; extra == 'tornado'\",\n  \"websockets ; extra == 'websockets'\"],\n 'requires_python': '',\n 'summary': 'Lightweight library for streamlining JSON RPC client and server creating. Supports WebSockets and HTTP transport',\n 'version': '0.0.8',\n 'yanked': False,\n 'yanked_reason': None}"
     },
     "execution_count": 11,
     "metadata": {},
     "output_type": "execute_result"
    }
   ],
   "source": [
    "# test = pypi_data['info'].apply(lambda el: json.loads(json.dumps(el)))\n",
    "# test\n",
    "pypi_data['info'][0]\n"
   ],
   "metadata": {
    "collapsed": false,
    "pycharm": {
     "name": "#%%\n"
    }
   }
  },
  {
   "cell_type": "code",
   "execution_count": 12,
   "outputs": [],
   "source": [
    "pypi_data['info'].to_json('../../data/repology/pypi_info.json', orient='records', lines=True)"
   ],
   "metadata": {
    "collapsed": false,
    "pycharm": {
     "name": "#%%\n"
    }
   }
  },
  {
   "cell_type": "code",
   "execution_count": 13,
   "outputs": [],
   "source": [
    "pypi_data_reduced = pd.read_json('../../data/repology/pypi_info.json', orient='records', lines=True)"
   ],
   "metadata": {
    "collapsed": false,
    "pycharm": {
     "name": "#%%\n"
    }
   }
  },
  {
   "cell_type": "code",
   "execution_count": 21,
   "outputs": [
    {
     "data": {
      "text/plain": "['python-dateutil (>=2.8.1)',\n 'pytz (>=2020.1)',\n 'numpy (>=1.18.5) ; platform_machine != \"aarch64\" and platform_machine != \"arm64\" and python_version < \"3.10\"',\n 'numpy (>=1.19.2) ; platform_machine == \"aarch64\" and python_version < \"3.10\"',\n 'numpy (>=1.20.0) ; platform_machine == \"arm64\" and python_version < \"3.10\"',\n 'numpy (>=1.21.0) ; python_version >= \"3.10\"',\n \"hypothesis (>=5.5.3) ; extra == 'test'\",\n \"pytest (>=6.0) ; extra == 'test'\",\n \"pytest-xdist (>=1.31) ; extra == 'test'\"]"
     },
     "execution_count": 21,
     "metadata": {},
     "output_type": "execute_result"
    }
   ],
   "source": [
    "# pypi_data_reduced.dropna(subset=['requires_dist'], inplace=True)\n",
    "# pypi_data_reduced.reset_index(drop=True, inplace=True)\n",
    "# # pypi_data_reduced['requires_dist'] = pypi_data_reduced['requires_dist'].apply(json.loads)\n",
    "# pypi_data_reduced['requires_dist'] = [','.join(x) for x in pypi_data_reduced['requires_dist']]\n",
    "# pypi_data_reduced[['name', 'requires_dist']]\n",
    "# Select from pypi_data_reduced all the data that has name zzzzls-Spider\n",
    "pypi_data_reduced[pypi_data_reduced['name'] == 'pandas']['requires_dist'].values[0]\n",
    "# pypi_data_reduced['']"
   ],
   "metadata": {
    "collapsed": false,
    "pycharm": {
     "name": "#%%\n"
    }
   }
  },
  {
   "cell_type": "code",
   "execution_count": 12,
   "outputs": [],
   "source": [
    "# with open('../../data/repology/pypicache.json', 'r') as file:\n",
    "#     json_data = json.load(file)"
   ],
   "metadata": {
    "collapsed": false,
    "pycharm": {
     "name": "#%%\n"
    }
   }
  },
  {
   "cell_type": "code",
   "execution_count": 13,
   "outputs": [],
   "source": [
    "# nested_json_data = pd.json_normalize(json_data, max_level=2)\n",
    "# nested_json_data"
   ],
   "metadata": {
    "collapsed": false,
    "pycharm": {
     "name": "#%%\n"
    }
   }
  },
  {
   "cell_type": "code",
   "execution_count": 14,
   "outputs": [
    {
     "ename": "ValueError",
     "evalue": "Expected object or value",
     "output_type": "error",
     "traceback": [
      "\u001B[1;31m---------------------------------------------------------------------------\u001B[0m",
      "\u001B[1;31mValueError\u001B[0m                                Traceback (most recent call last)",
      "Input \u001B[1;32mIn [14]\u001B[0m, in \u001B[0;36m<cell line: 3>\u001B[1;34m()\u001B[0m\n\u001B[0;32m      1\u001B[0m chunks \u001B[38;5;241m=\u001B[39m pd\u001B[38;5;241m.\u001B[39mread_json(\u001B[38;5;124m'\u001B[39m\u001B[38;5;124m../../data/repology/pypicache.json\u001B[39m\u001B[38;5;124m'\u001B[39m, lines\u001B[38;5;241m=\u001B[39m\u001B[38;5;28;01mTrue\u001B[39;00m, chunksize\u001B[38;5;241m=\u001B[39m\u001B[38;5;241m100000\u001B[39m)\n\u001B[1;32m----> 3\u001B[0m \u001B[38;5;28;01mfor\u001B[39;00m chunk \u001B[38;5;129;01min\u001B[39;00m chunks:\n\u001B[0;32m      4\u001B[0m     display(chunk)\n",
      "File \u001B[1;32m~\\mambaforge\\envs\\py310\\lib\\site-packages\\pandas\\io\\json\\_json.py:796\u001B[0m, in \u001B[0;36mJsonReader.__next__\u001B[1;34m(self)\u001B[0m\n\u001B[0;32m    794\u001B[0m \u001B[38;5;28;01mif\u001B[39;00m lines:\n\u001B[0;32m    795\u001B[0m     lines_json \u001B[38;5;241m=\u001B[39m \u001B[38;5;28mself\u001B[39m\u001B[38;5;241m.\u001B[39m_combine_lines(lines)\n\u001B[1;32m--> 796\u001B[0m     obj \u001B[38;5;241m=\u001B[39m \u001B[38;5;28;43mself\u001B[39;49m\u001B[38;5;241;43m.\u001B[39;49m\u001B[43m_get_object_parser\u001B[49m\u001B[43m(\u001B[49m\u001B[43mlines_json\u001B[49m\u001B[43m)\u001B[49m\n\u001B[0;32m    798\u001B[0m     \u001B[38;5;66;03m# Make sure that the returned objects have the right index.\u001B[39;00m\n\u001B[0;32m    799\u001B[0m     obj\u001B[38;5;241m.\u001B[39mindex \u001B[38;5;241m=\u001B[39m \u001B[38;5;28mrange\u001B[39m(\u001B[38;5;28mself\u001B[39m\u001B[38;5;241m.\u001B[39mnrows_seen, \u001B[38;5;28mself\u001B[39m\u001B[38;5;241m.\u001B[39mnrows_seen \u001B[38;5;241m+\u001B[39m \u001B[38;5;28mlen\u001B[39m(obj))\n",
      "File \u001B[1;32m~\\mambaforge\\envs\\py310\\lib\\site-packages\\pandas\\io\\json\\_json.py:768\u001B[0m, in \u001B[0;36mJsonReader._get_object_parser\u001B[1;34m(self, json)\u001B[0m\n\u001B[0;32m    766\u001B[0m obj \u001B[38;5;241m=\u001B[39m \u001B[38;5;28;01mNone\u001B[39;00m\n\u001B[0;32m    767\u001B[0m \u001B[38;5;28;01mif\u001B[39;00m typ \u001B[38;5;241m==\u001B[39m \u001B[38;5;124m\"\u001B[39m\u001B[38;5;124mframe\u001B[39m\u001B[38;5;124m\"\u001B[39m:\n\u001B[1;32m--> 768\u001B[0m     obj \u001B[38;5;241m=\u001B[39m \u001B[43mFrameParser\u001B[49m\u001B[43m(\u001B[49m\u001B[43mjson\u001B[49m\u001B[43m,\u001B[49m\u001B[43m \u001B[49m\u001B[38;5;241;43m*\u001B[39;49m\u001B[38;5;241;43m*\u001B[39;49m\u001B[43mkwargs\u001B[49m\u001B[43m)\u001B[49m\u001B[38;5;241;43m.\u001B[39;49m\u001B[43mparse\u001B[49m\u001B[43m(\u001B[49m\u001B[43m)\u001B[49m\n\u001B[0;32m    770\u001B[0m \u001B[38;5;28;01mif\u001B[39;00m typ \u001B[38;5;241m==\u001B[39m \u001B[38;5;124m\"\u001B[39m\u001B[38;5;124mseries\u001B[39m\u001B[38;5;124m\"\u001B[39m \u001B[38;5;129;01mor\u001B[39;00m obj \u001B[38;5;129;01mis\u001B[39;00m \u001B[38;5;28;01mNone\u001B[39;00m:\n\u001B[0;32m    771\u001B[0m     \u001B[38;5;28;01mif\u001B[39;00m \u001B[38;5;129;01mnot\u001B[39;00m \u001B[38;5;28misinstance\u001B[39m(dtype, \u001B[38;5;28mbool\u001B[39m):\n",
      "File \u001B[1;32m~\\mambaforge\\envs\\py310\\lib\\site-packages\\pandas\\io\\json\\_json.py:880\u001B[0m, in \u001B[0;36mParser.parse\u001B[1;34m(self)\u001B[0m\n\u001B[0;32m    878\u001B[0m     \u001B[38;5;28mself\u001B[39m\u001B[38;5;241m.\u001B[39m_parse_numpy()\n\u001B[0;32m    879\u001B[0m \u001B[38;5;28;01melse\u001B[39;00m:\n\u001B[1;32m--> 880\u001B[0m     \u001B[38;5;28;43mself\u001B[39;49m\u001B[38;5;241;43m.\u001B[39;49m\u001B[43m_parse_no_numpy\u001B[49m\u001B[43m(\u001B[49m\u001B[43m)\u001B[49m\n\u001B[0;32m    882\u001B[0m \u001B[38;5;28;01mif\u001B[39;00m \u001B[38;5;28mself\u001B[39m\u001B[38;5;241m.\u001B[39mobj \u001B[38;5;129;01mis\u001B[39;00m \u001B[38;5;28;01mNone\u001B[39;00m:\n\u001B[0;32m    883\u001B[0m     \u001B[38;5;28;01mreturn\u001B[39;00m \u001B[38;5;28;01mNone\u001B[39;00m\n",
      "File \u001B[1;32m~\\mambaforge\\envs\\py310\\lib\\site-packages\\pandas\\io\\json\\_json.py:1133\u001B[0m, in \u001B[0;36mFrameParser._parse_no_numpy\u001B[1;34m(self)\u001B[0m\n\u001B[0;32m   1129\u001B[0m orient \u001B[38;5;241m=\u001B[39m \u001B[38;5;28mself\u001B[39m\u001B[38;5;241m.\u001B[39morient\n\u001B[0;32m   1131\u001B[0m \u001B[38;5;28;01mif\u001B[39;00m orient \u001B[38;5;241m==\u001B[39m \u001B[38;5;124m\"\u001B[39m\u001B[38;5;124mcolumns\u001B[39m\u001B[38;5;124m\"\u001B[39m:\n\u001B[0;32m   1132\u001B[0m     \u001B[38;5;28mself\u001B[39m\u001B[38;5;241m.\u001B[39mobj \u001B[38;5;241m=\u001B[39m DataFrame(\n\u001B[1;32m-> 1133\u001B[0m         \u001B[43mloads\u001B[49m\u001B[43m(\u001B[49m\u001B[43mjson\u001B[49m\u001B[43m,\u001B[49m\u001B[43m \u001B[49m\u001B[43mprecise_float\u001B[49m\u001B[38;5;241;43m=\u001B[39;49m\u001B[38;5;28;43mself\u001B[39;49m\u001B[38;5;241;43m.\u001B[39;49m\u001B[43mprecise_float\u001B[49m\u001B[43m)\u001B[49m, dtype\u001B[38;5;241m=\u001B[39m\u001B[38;5;28;01mNone\u001B[39;00m\n\u001B[0;32m   1134\u001B[0m     )\n\u001B[0;32m   1135\u001B[0m \u001B[38;5;28;01melif\u001B[39;00m orient \u001B[38;5;241m==\u001B[39m \u001B[38;5;124m\"\u001B[39m\u001B[38;5;124msplit\u001B[39m\u001B[38;5;124m\"\u001B[39m:\n\u001B[0;32m   1136\u001B[0m     decoded \u001B[38;5;241m=\u001B[39m {\n\u001B[0;32m   1137\u001B[0m         \u001B[38;5;28mstr\u001B[39m(k): v\n\u001B[0;32m   1138\u001B[0m         \u001B[38;5;28;01mfor\u001B[39;00m k, v \u001B[38;5;129;01min\u001B[39;00m loads(json, precise_float\u001B[38;5;241m=\u001B[39m\u001B[38;5;28mself\u001B[39m\u001B[38;5;241m.\u001B[39mprecise_float)\u001B[38;5;241m.\u001B[39mitems()\n\u001B[0;32m   1139\u001B[0m     }\n",
      "\u001B[1;31mValueError\u001B[0m: Expected object or value"
     ]
    }
   ],
   "source": [
    "chunks = pd.read_json('../../data/repology/pypicache.json', lines=True, chunksize=100000)\n",
    "\n",
    "for chunk in chunks:\n",
    "    display(chunk)"
   ],
   "metadata": {
    "collapsed": false,
    "pycharm": {
     "name": "#%%\n"
    }
   }
  }
 ],
 "metadata": {
  "kernelspec": {
   "display_name": "Python 3",
   "language": "python",
   "name": "python3"
  },
  "language_info": {
   "codemirror_mode": {
    "name": "ipython",
    "version": 2
   },
   "file_extension": ".py",
   "mimetype": "text/x-python",
   "name": "python",
   "nbconvert_exporter": "python",
   "pygments_lexer": "ipython2",
   "version": "2.7.6"
  }
 },
 "nbformat": 4,
 "nbformat_minor": 0
}