{
 "cells": [
  {
   "cell_type": "code",
   "execution_count": null,
   "outputs": [],
   "source": [
    "class GraphNode:\n",
    "    def __init__(self, name: str, version: str, timestamp: str):\n",
    "        self.index = None\n",
    "        self.name = name\n",
    "        self.version = version\n",
    "        self.timestamp = timestamp"
   ],
   "metadata": {
    "collapsed": false,
    "pycharm": {
     "name": "#%%\n"
    }
   }
  },
  {
   "cell_type": "code",
   "execution_count": null,
   "metadata": {
    "collapsed": true,
    "pycharm": {
     "name": "#%%\n"
    }
   },
   "outputs": [],
   "source": [
    "import retworkx as rx"
   ]
  },
  {
   "cell_type": "code",
   "execution_count": null,
   "outputs": [],
   "source": [
    "graph = rx.PyDiGraph(multigraph=False)"
   ],
   "metadata": {
    "collapsed": false,
    "pycharm": {
     "name": "#%%\n"
    }
   }
  },
  {
   "cell_type": "code",
   "execution_count": null,
   "outputs": [],
   "source": [
    "import json\n",
    "\n",
    "input_data: dict[str, dict[str, dict]]\n",
    "with open('../../data/output/neo4j_data.json', 'r') as file:\n",
    "    input_data = json.load(file)"
   ],
   "metadata": {
    "collapsed": false,
    "pycharm": {
     "name": "#%%\n"
    }
   }
  },
  {
   "cell_type": "code",
   "execution_count": null,
   "outputs": [],
   "source": [
    "string_id_to_index: dict[str, int] = dict()\n",
    "\n",
    "for package in input_data.values():\n",
    "    for version_name, version_data in package['versions'].items():\n",
    "        string_id_to_index[f\"{package['name']}-{version_name}\"] = graph.add_node(\n",
    "            GraphNode(package['name'], version_name, version_data['timestamp']))\n",
    "\n",
    "for index in graph.node_indices():\n",
    "    graph[index].index = index"
   ],
   "metadata": {
    "collapsed": false,
    "pycharm": {
     "name": "#%%\n"
    }
   }
  },
  {
   "cell_type": "code",
   "execution_count": null,
   "outputs": [],
   "source": [
    "from semantic_version import SimpleSpec, Version\n",
    "\n",
    "keys = set(input_data.keys())\n",
    "\n",
    "for index, (pack_name, pack) in enumerate(input_data.items()):\n",
    "\n",
    "    for version_name, version_data in pack['versions'].items():\n",
    "        dependent_info = (pack_name, version_name, version_data['timestamp'])\n",
    "        for dependency_name, dependency_version_constraint in version_data['dependencies'].items():\n",
    "\n",
    "            try:\n",
    "                spec = SimpleSpec(dependency_version_constraint)\n",
    "            except ValueError:\n",
    "                # Ignore dependencies with non-standard formats\n",
    "                continue\n",
    "            if dependency_name in keys:\n",
    "                for dependency_version in input_data[dependency_name]['versions'].keys():\n",
    "\n",
    "                    try:\n",
    "                        semver_version = Version(dependency_version)\n",
    "                    except ValueError:\n",
    "                        continue\n",
    "\n",
    "                    if spec.match(semver_version):\n",
    "                        graph.add_edge(string_id_to_index[f\"{pack_name}-{version_name}\"],\n",
    "                                       string_id_to_index[f\"{dependency_name}-{dependency_version}\"], None)\n",
    "\n",
    "    if index % 10_000 == 0:\n",
    "        print((index / len(input_data)) * 100, \"% done!\")"
   ],
   "metadata": {
    "collapsed": false,
    "pycharm": {
     "name": "#%%\n"
    }
   }
  },
  {
   "cell_type": "code",
   "execution_count": null,
   "outputs": [],
   "source": [
    "print(\"Nodes: \", len(graph.nodes()))\n",
    "print(\"Edges: \", len(graph.edges()))"
   ],
   "metadata": {
    "collapsed": false,
    "pycharm": {
     "name": "#%%\n"
    }
   }
  },
  {
   "cell_type": "code",
   "execution_count": null,
   "outputs": [],
   "source": [
    "print(list(map(lambda x: x.name, graph.nodes()))[:100])"
   ],
   "metadata": {
    "collapsed": false,
    "pycharm": {
     "name": "#%%\n"
    }
   }
  },
  {
   "cell_type": "code",
   "execution_count": null,
   "outputs": [],
   "source": [
    "between = rx.betweenness_centrality(graph)\n",
    "between"
   ],
   "metadata": {
    "collapsed": false,
    "pycharm": {
     "name": "#%%\n",
     "is_executing": true
    }
   }
  },
  {
   "cell_type": "code",
   "execution_count": null,
   "outputs": [],
   "source": [
    "# WARNING: THIS WILL NOT WORK ON BIG GRAPHS!\n",
    "import matplotlib.pyplot as plt\n",
    "from retworkx.visualization import mpl_draw\n",
    "\n",
    "mpl_draw(graph)\n",
    "plt.draw()"
   ],
   "metadata": {
    "collapsed": false,
    "pycharm": {
     "name": "#%%\n",
     "is_executing": true
    }
   }
  }
 ],
 "metadata": {
  "kernelspec": {
   "display_name": "Python 3",
   "language": "python",
   "name": "python3"
  },
  "language_info": {
   "codemirror_mode": {
    "name": "ipython",
    "version": 2
   },
   "file_extension": ".py",
   "mimetype": "text/x-python",
   "name": "python",
   "nbconvert_exporter": "python",
   "pygments_lexer": "ipython2",
   "version": "2.7.6"
  }
 },
 "nbformat": 4,
 "nbformat_minor": 0
}