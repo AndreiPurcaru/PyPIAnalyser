{
 "cells": [
  {
   "cell_type": "code",
   "execution_count": null,
   "metadata": {
    "collapsed": true,
    "pycharm": {
     "name": "#%%\n"
    }
   },
   "outputs": [],
   "source": [
    "import pandas as pd\n",
    "from pandas import DataFrame\n",
    "\n",
    "from src.lib import name_extractor, version_extractor"
   ]
  },
  {
   "cell_type": "code",
   "execution_count": null,
   "outputs": [],
   "source": [
    "initial_data = pd.read_parquet('../../data/big_query/bq_results_unique_exploded.parquet')\n",
    "initial_data"
   ],
   "metadata": {
    "collapsed": false,
    "pycharm": {
     "name": "#%%\n"
    }
   }
  },
  {
   "cell_type": "code",
   "execution_count": null,
   "outputs": [],
   "source": [
    "dependency_version_series = initial_data['requires_dist'].apply(version_extractor)\n",
    "dependency_name_series = initial_data['requires_dist'].apply(name_extractor)\n",
    "\n",
    "# Used just for visual purposes\n",
    "dependencies_df = pd.concat([dependency_name_series, dependency_version_series], axis=1, ignore_index=True)\n",
    "dependencies_df.columns = ['dependency_name', 'dependency_version']\n",
    "dependencies_df"
   ],
   "metadata": {
    "collapsed": false,
    "pycharm": {
     "name": "#%%\n"
    }
   }
  },
  {
   "cell_type": "code",
   "execution_count": null,
   "outputs": [],
   "source": [
    "initial_data.drop('requires_dist', axis=1, inplace=True)\n",
    "initial_data['dependency_name'] = dependency_name_series\n",
    "initial_data['dependency_version'] = dependency_version_series\n",
    "# initial_data.insert(4, 'dependency_version', dependency_version_series)\n",
    "initial_data"
   ],
   "metadata": {
    "collapsed": false,
    "pycharm": {
     "name": "#%%\n"
    }
   }
  },
  {
   "cell_type": "code",
   "execution_count": null,
   "outputs": [],
   "source": [
    "initial_data.head(100)"
   ],
   "metadata": {
    "collapsed": false,
    "pycharm": {
     "name": "#%%\n"
    }
   }
  },
  {
   "cell_type": "code",
   "execution_count": null,
   "outputs": [],
   "source": [
    "# normalized_json_df = initial_data.groupby(['name', 'version'])\n",
    "# aggregated = normalized_json_df.agg({'upload_time': 'first', 'dependency_name': list, 'dependency_version': list})\n"
   ],
   "metadata": {
    "collapsed": false,
    "pycharm": {
     "name": "#%%\n"
    }
   }
  },
  {
   "cell_type": "code",
   "execution_count": null,
   "outputs": [],
   "source": [
    "from IPython.core.display_functions import display\n",
    "\n",
    "# headed = aggregated.copy()\n",
    "# headed['dependencies'] = headed.apply(lambda el: list(zip(el['dependency_name'], el['dependency_version'])), axis=1)\n",
    "# for lst in headed['dependency']:\n",
    "#     for el in lst:\n",
    "#         print(el)\n",
    "# display(headed)\n",
    "# headed['dependencies'] = [[{el[0]: el[1]} for el in x] for x in [lst for lst in headed['dependencies']]]\n",
    "# headed\n",
    "# for el in zip(headed['dependency_name'].to_list(), headed['dependency_version'].to_list()):\n",
    "#     print(el)\n",
    "# headed['dependency'] = [{key: val} for key, val in zip(headed['dependency_name'].array, headed['dependency_version'])]\n",
    "# h = aggregated.groupby(['dependency_name'], as_index=False).agg({'upload_time': 'first'})\n",
    "# h"
   ],
   "metadata": {
    "collapsed": false,
    "pycharm": {
     "name": "#%%\n"
    }
   }
  },
  {
   "cell_type": "code",
   "execution_count": null,
   "outputs": [],
   "source": [
    "# cleaned: pd.DataFrame = headed.drop(['dependency_name', 'dependency_version'], axis=1)\n",
    "# # pd.DataFrame.to_dict()\n",
    "# cleaned.head(10).to_dict(orient='index')"
   ],
   "metadata": {
    "collapsed": false,
    "pycharm": {
     "name": "#%%\n"
    }
   }
  },
  {
   "cell_type": "code",
   "execution_count": null,
   "outputs": [],
   "source": [
    "def convert_to_normalized_format(grouped_df: DataFrame):\n",
    "    print(grouped_df)\n",
    "    # normalized_form = {\n",
    "    #     # We know the name is the same for all rows\n",
    "    #     'name': grouped_df['name'].iloc[0],\n",
    "    #     'versions': {}\n",
    "    # }\n",
    "    # for index, version in enumerate(grouped_df['version']):\n",
    "    #     normalized_form['versions'][version] = {\n",
    "    #         'timestamp': grouped_df['upload_time'].iloc[index],\n",
    "    #         'dependencies': {}\n",
    "    #     }\n",
    "    #     for dependency, dependency_version in zip(grouped_df['dependency_name'], grouped_df['dependency_version']):\n",
    "    #         normalized_form['versions'][version]['dependencies'][dependency] = dependency_version\n",
    "    #\n",
    "    # return normalized_form\n",
    "\n",
    "\n",
    "# normalized_json_df = initial_data.groupby('name')\n",
    "# normalized_json_df\n",
    "list(map(convert_to_normalized_format, initial_data.to_json()))"
   ],
   "metadata": {
    "collapsed": false,
    "pycharm": {
     "name": "#%%\n",
     "is_executing": true
    }
   }
  },
  {
   "cell_type": "code",
   "execution_count": null,
   "outputs": [],
   "source": [
    "# normalized_json_df = initial_data.groupby('name').pipe(convert_to_normalized_format)\n",
    "# normalized_json_df"
   ],
   "metadata": {
    "collapsed": false,
    "pycharm": {
     "name": "#%%\n"
    }
   }
  },
  {
   "cell_type": "code",
   "execution_count": null,
   "outputs": [],
   "source": [
    "# normalized_json_df.to_json('../../data/output/bq_dependencies.json', orient='records')"
   ],
   "metadata": {
    "collapsed": false,
    "pycharm": {
     "name": "#%%\n"
    }
   }
  }
 ],
 "metadata": {
  "kernelspec": {
   "display_name": "Python 3",
   "language": "python",
   "name": "python3"
  },
  "language_info": {
   "codemirror_mode": {
    "name": "ipython",
    "version": 2
   },
   "file_extension": ".py",
   "mimetype": "text/x-python",
   "name": "python",
   "nbconvert_exporter": "python",
   "pygments_lexer": "ipython2",
   "version": "2.7.6"
  }
 },
 "nbformat": 4,
 "nbformat_minor": 0
}