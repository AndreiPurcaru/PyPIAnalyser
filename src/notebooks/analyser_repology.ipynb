{
 "cells": [
  {
   "cell_type": "code",
   "execution_count": 1,
   "metadata": {
    "collapsed": true,
    "pycharm": {
     "name": "#%%\n"
    }
   },
   "outputs": [],
   "source": [
    "import pandas as pd\n",
    "from pandas import DataFrame\n",
    "from pandas.core.groupby import SeriesGroupBy, DataFrameGroupBy\n",
    "\n",
    "pd.set_option('display.max_columns', 100)"
   ]
  },
  {
   "cell_type": "code",
   "execution_count": 2,
   "outputs": [
    {
     "data": {
      "text/plain": "                                                     info  last_serial  \\\n0       {'author': 'Dmitry Berezovsky', 'author_email'...      8973353   \n1       {'author': 'Abraham', 'author_email': 'abraham...      9481777   \n2       {'author': 'Sergei Minaev', 'author_email': 'i...      9764135   \n3       {'author': 'Wolfgang Schnerring <wosc@wosc.de>...     11184293   \n4       {'author': 'Thea Barnes', 'author_email': 'the...     11644911   \n...                                                   ...          ...   \n169616  {'author': 'Amazon Web Services', 'author_emai...     13647017   \n169617  {'author': 'Amazon Web Services', 'author_emai...     13647009   \n169618  {'author': '', 'author_email': '', 'bugtrack_u...     13625952   \n169619  {'author': 'Amazon Web Services', 'author_emai...     13647157   \n169620  {'author': 'Silvan Schmidt', 'author_email': '...     13476925   \n\n                                                 releases  \\\n0       {'0.0.8': [{'comment_text': '', 'digests': {'m...   \n1       {'1.0.0': [{'comment_text': '', 'digests': {'m...   \n2       {'0.5': [{'comment_text': '', 'digests': {'md5...   \n3       {'1.0.4': [{'comment_text': '', 'digests': {'m...   \n4       {'0.0.1': [{'comment_text': '', 'digests': {'m...   \n...                                                   ...   \n169616  {'1.154.0': [{'comment_text': '', 'digests': {...   \n169617  {'1.154.0': [{'comment_text': '', 'digests': {...   \n169618  {'0.0.23': [{'comment_text': '', 'digests': {'...   \n169619  {'1.154.0': [{'comment_text': '', 'digests': {...   \n169620  {'1.1.0': [{'comment_text': '', 'digests': {'m...   \n\n                                                     urls vulnerabilities  \n0       [{'comment_text': '', 'digests': {'md5': '360c...              []  \n1       [{'comment_text': '', 'digests': {'md5': 'dfef...              []  \n2       [{'comment_text': '', 'digests': {'md5': 'b612...              []  \n3       [{'comment_text': '', 'digests': {'md5': '55ed...              []  \n4       [{'comment_text': '', 'digests': {'md5': '3613...              []  \n...                                                   ...             ...  \n169616  [{'comment_text': '', 'digests': {'md5': 'ae15...              []  \n169617  [{'comment_text': '', 'digests': {'md5': '9bc9...              []  \n169618  [{'comment_text': '', 'digests': {'md5': '0d0a...              []  \n169619  [{'comment_text': '', 'digests': {'md5': 'dde6...              []  \n169620  [{'comment_text': '', 'digests': {'md5': '06db...              []  \n\n[169621 rows x 5 columns]",
      "text/html": "<div>\n<style scoped>\n    .dataframe tbody tr th:only-of-type {\n        vertical-align: middle;\n    }\n\n    .dataframe tbody tr th {\n        vertical-align: top;\n    }\n\n    .dataframe thead th {\n        text-align: right;\n    }\n</style>\n<table border=\"1\" class=\"dataframe\">\n  <thead>\n    <tr style=\"text-align: right;\">\n      <th></th>\n      <th>info</th>\n      <th>last_serial</th>\n      <th>releases</th>\n      <th>urls</th>\n      <th>vulnerabilities</th>\n    </tr>\n  </thead>\n  <tbody>\n    <tr>\n      <th>0</th>\n      <td>{'author': 'Dmitry Berezovsky', 'author_email'...</td>\n      <td>8973353</td>\n      <td>{'0.0.8': [{'comment_text': '', 'digests': {'m...</td>\n      <td>[{'comment_text': '', 'digests': {'md5': '360c...</td>\n      <td>[]</td>\n    </tr>\n    <tr>\n      <th>1</th>\n      <td>{'author': 'Abraham', 'author_email': 'abraham...</td>\n      <td>9481777</td>\n      <td>{'1.0.0': [{'comment_text': '', 'digests': {'m...</td>\n      <td>[{'comment_text': '', 'digests': {'md5': 'dfef...</td>\n      <td>[]</td>\n    </tr>\n    <tr>\n      <th>2</th>\n      <td>{'author': 'Sergei Minaev', 'author_email': 'i...</td>\n      <td>9764135</td>\n      <td>{'0.5': [{'comment_text': '', 'digests': {'md5...</td>\n      <td>[{'comment_text': '', 'digests': {'md5': 'b612...</td>\n      <td>[]</td>\n    </tr>\n    <tr>\n      <th>3</th>\n      <td>{'author': 'Wolfgang Schnerring &lt;wosc@wosc.de&gt;...</td>\n      <td>11184293</td>\n      <td>{'1.0.4': [{'comment_text': '', 'digests': {'m...</td>\n      <td>[{'comment_text': '', 'digests': {'md5': '55ed...</td>\n      <td>[]</td>\n    </tr>\n    <tr>\n      <th>4</th>\n      <td>{'author': 'Thea Barnes', 'author_email': 'the...</td>\n      <td>11644911</td>\n      <td>{'0.0.1': [{'comment_text': '', 'digests': {'m...</td>\n      <td>[{'comment_text': '', 'digests': {'md5': '3613...</td>\n      <td>[]</td>\n    </tr>\n    <tr>\n      <th>...</th>\n      <td>...</td>\n      <td>...</td>\n      <td>...</td>\n      <td>...</td>\n      <td>...</td>\n    </tr>\n    <tr>\n      <th>169616</th>\n      <td>{'author': 'Amazon Web Services', 'author_emai...</td>\n      <td>13647017</td>\n      <td>{'1.154.0': [{'comment_text': '', 'digests': {...</td>\n      <td>[{'comment_text': '', 'digests': {'md5': 'ae15...</td>\n      <td>[]</td>\n    </tr>\n    <tr>\n      <th>169617</th>\n      <td>{'author': 'Amazon Web Services', 'author_emai...</td>\n      <td>13647009</td>\n      <td>{'1.154.0': [{'comment_text': '', 'digests': {...</td>\n      <td>[{'comment_text': '', 'digests': {'md5': '9bc9...</td>\n      <td>[]</td>\n    </tr>\n    <tr>\n      <th>169618</th>\n      <td>{'author': '', 'author_email': '', 'bugtrack_u...</td>\n      <td>13625952</td>\n      <td>{'0.0.23': [{'comment_text': '', 'digests': {'...</td>\n      <td>[{'comment_text': '', 'digests': {'md5': '0d0a...</td>\n      <td>[]</td>\n    </tr>\n    <tr>\n      <th>169619</th>\n      <td>{'author': 'Amazon Web Services', 'author_emai...</td>\n      <td>13647157</td>\n      <td>{'1.154.0': [{'comment_text': '', 'digests': {...</td>\n      <td>[{'comment_text': '', 'digests': {'md5': 'dde6...</td>\n      <td>[]</td>\n    </tr>\n    <tr>\n      <th>169620</th>\n      <td>{'author': 'Silvan Schmidt', 'author_email': '...</td>\n      <td>13476925</td>\n      <td>{'1.1.0': [{'comment_text': '', 'digests': {'m...</td>\n      <td>[{'comment_text': '', 'digests': {'md5': '06db...</td>\n      <td>[]</td>\n    </tr>\n  </tbody>\n</table>\n<p>169621 rows × 5 columns</p>\n</div>"
     },
     "execution_count": 2,
     "metadata": {},
     "output_type": "execute_result"
    }
   ],
   "source": [
    "pypi_data = pd.read_json('../../data/repology/pypicache.json')\n",
    "pypi_data"
   ],
   "metadata": {
    "collapsed": false,
    "pycharm": {
     "name": "#%%\n"
    }
   }
  },
  {
   "cell_type": "markdown",
   "source": [
    "### Converting Info JSON to a DataFrame"
   ],
   "metadata": {
    "collapsed": false,
    "pycharm": {
     "name": "#%% md\n"
    }
   }
  },
  {
   "cell_type": "code",
   "execution_count": 3,
   "outputs": [],
   "source": [
    "from IPython.core.display_functions import display\n",
    "\n",
    "# pypi_data['info'].map(lambda x: x['author'])\n",
    "# df = pypi_data['info'].apply(pd.Series) --- Slow in general. For the given case, just as fast as json_normalize (without a set max level) as that attempts to unnest the entire json object. ~ 30 seconds\n",
    "# df = pd.json_normalize(pypi_data['info']) --- Slow due to previously mentioned unnesting. ~ 30 seconds\n",
    "# df = pd.json_normalize(pypi_data['info'], max_level=0) --- Faster. ~ 5 seconds\n",
    "# df = pd.DataFrame(pypi_data['info'].values.tolist()) --- Fastest. ~ 0.5 seconds\n",
    "\n",
    "info_df = pd.DataFrame(pypi_data['info'].values.tolist())\n",
    "info_df = info_df[['name', 'version', 'requires_dist', 'author']]\n",
    "# Rename headers to make it more readable\n",
    "info_df.rename(columns={'requires_dist': 'dependency', }, inplace=True)"
   ],
   "metadata": {
    "collapsed": false,
    "pycharm": {
     "name": "#%%\n"
    }
   }
  },
  {
   "cell_type": "markdown",
   "source": [],
   "metadata": {
    "collapsed": false,
    "pycharm": {
     "name": "#%% md\n"
    }
   }
  },
  {
   "cell_type": "markdown",
   "source": [
    "### Extracting upload times from JSON"
   ],
   "metadata": {
    "collapsed": false,
    "pycharm": {
     "name": "#%% md\n"
    }
   }
  },
  {
   "cell_type": "code",
   "execution_count": 4,
   "outputs": [],
   "source": [
    "def extract_date_from_nested_releases_json(releases_json):\n",
    "    if isinstance(releases_json, dict):\n",
    "        latest_release = [*releases_json.values()][0]\n",
    "        if latest_release:\n",
    "            return latest_release[0]['upload_time']\n",
    "    else:\n",
    "        return None"
   ],
   "metadata": {
    "collapsed": false,
    "pycharm": {
     "name": "#%%\n"
    }
   }
  },
  {
   "cell_type": "code",
   "execution_count": 5,
   "outputs": [],
   "source": [
    "upload_time_df = pypi_data['releases'].map(extract_date_from_nested_releases_json)"
   ],
   "metadata": {
    "collapsed": false,
    "pycharm": {
     "name": "#%%\n"
    }
   }
  },
  {
   "cell_type": "code",
   "execution_count": 6,
   "outputs": [
    {
     "data": {
      "text/plain": "                                     name  version          upload_time  \\\n0                               ws-sizzle    0.0.8  2020-12-23T22:08:32   \n1                                   ws-ui    1.0.0  2021-02-21T15:59:48   \n2                              ws-watcher      0.5  2021-03-14T03:06:40   \n3                            ws.mailcheck    1.0.4  2021-08-15T16:26:14   \n4                              ws1in44lcd    0.0.1  2021-10-06T14:34:56   \n...                                   ...      ...                  ...   \n169616           aws-cdk.aws-datapipeline  1.154.0  2022-04-28T01:59:28   \n169617  aws-cdk.aws-codestarnotifications  1.154.0  2022-04-28T01:59:17   \n169618                    nucliadb-protos   0.0.23  2022-04-26T10:14:53   \n169619       aws-cdk.aws-s3-notifications  1.154.0  2022-04-28T02:02:26   \n169620                              peapy    1.1.0  2022-04-11T11:22:09   \n\n                                               dependency  \\\n0       [json-rpc (>=1.13.0), pydantic (>=1.6), aiohtt...   \n1                               [tornado, prompt-toolkit]   \n2                          [websockets, asyncio, inotify]   \n3                                                    None   \n4                                                    None   \n...                                                   ...   \n169616  [aws-cdk.core (==1.154.0), constructs (<4.0.0,...   \n169617  [aws-cdk.core (==1.154.0), constructs (<4.0.0,...   \n169618                                               None   \n169619  [aws-cdk.aws-iam (==1.154.0), aws-cdk.aws-kms ...   \n169620  [pygame (==2.1.3.dev4), keyboard, mouse, shapely]   \n\n                                    author  \n0                        Dmitry Berezovsky  \n1                                  Abraham  \n2                            Sergei Minaev  \n3       Wolfgang Schnerring <wosc@wosc.de>  \n4                              Thea Barnes  \n...                                    ...  \n169616                 Amazon Web Services  \n169617                 Amazon Web Services  \n169618                                      \n169619                 Amazon Web Services  \n169620                      Silvan Schmidt  \n\n[169621 rows x 5 columns]",
      "text/html": "<div>\n<style scoped>\n    .dataframe tbody tr th:only-of-type {\n        vertical-align: middle;\n    }\n\n    .dataframe tbody tr th {\n        vertical-align: top;\n    }\n\n    .dataframe thead th {\n        text-align: right;\n    }\n</style>\n<table border=\"1\" class=\"dataframe\">\n  <thead>\n    <tr style=\"text-align: right;\">\n      <th></th>\n      <th>name</th>\n      <th>version</th>\n      <th>upload_time</th>\n      <th>dependency</th>\n      <th>author</th>\n    </tr>\n  </thead>\n  <tbody>\n    <tr>\n      <th>0</th>\n      <td>ws-sizzle</td>\n      <td>0.0.8</td>\n      <td>2020-12-23T22:08:32</td>\n      <td>[json-rpc (&gt;=1.13.0), pydantic (&gt;=1.6), aiohtt...</td>\n      <td>Dmitry Berezovsky</td>\n    </tr>\n    <tr>\n      <th>1</th>\n      <td>ws-ui</td>\n      <td>1.0.0</td>\n      <td>2021-02-21T15:59:48</td>\n      <td>[tornado, prompt-toolkit]</td>\n      <td>Abraham</td>\n    </tr>\n    <tr>\n      <th>2</th>\n      <td>ws-watcher</td>\n      <td>0.5</td>\n      <td>2021-03-14T03:06:40</td>\n      <td>[websockets, asyncio, inotify]</td>\n      <td>Sergei Minaev</td>\n    </tr>\n    <tr>\n      <th>3</th>\n      <td>ws.mailcheck</td>\n      <td>1.0.4</td>\n      <td>2021-08-15T16:26:14</td>\n      <td>None</td>\n      <td>Wolfgang Schnerring &lt;wosc@wosc.de&gt;</td>\n    </tr>\n    <tr>\n      <th>4</th>\n      <td>ws1in44lcd</td>\n      <td>0.0.1</td>\n      <td>2021-10-06T14:34:56</td>\n      <td>None</td>\n      <td>Thea Barnes</td>\n    </tr>\n    <tr>\n      <th>...</th>\n      <td>...</td>\n      <td>...</td>\n      <td>...</td>\n      <td>...</td>\n      <td>...</td>\n    </tr>\n    <tr>\n      <th>169616</th>\n      <td>aws-cdk.aws-datapipeline</td>\n      <td>1.154.0</td>\n      <td>2022-04-28T01:59:28</td>\n      <td>[aws-cdk.core (==1.154.0), constructs (&lt;4.0.0,...</td>\n      <td>Amazon Web Services</td>\n    </tr>\n    <tr>\n      <th>169617</th>\n      <td>aws-cdk.aws-codestarnotifications</td>\n      <td>1.154.0</td>\n      <td>2022-04-28T01:59:17</td>\n      <td>[aws-cdk.core (==1.154.0), constructs (&lt;4.0.0,...</td>\n      <td>Amazon Web Services</td>\n    </tr>\n    <tr>\n      <th>169618</th>\n      <td>nucliadb-protos</td>\n      <td>0.0.23</td>\n      <td>2022-04-26T10:14:53</td>\n      <td>None</td>\n      <td></td>\n    </tr>\n    <tr>\n      <th>169619</th>\n      <td>aws-cdk.aws-s3-notifications</td>\n      <td>1.154.0</td>\n      <td>2022-04-28T02:02:26</td>\n      <td>[aws-cdk.aws-iam (==1.154.0), aws-cdk.aws-kms ...</td>\n      <td>Amazon Web Services</td>\n    </tr>\n    <tr>\n      <th>169620</th>\n      <td>peapy</td>\n      <td>1.1.0</td>\n      <td>2022-04-11T11:22:09</td>\n      <td>[pygame (==2.1.3.dev4), keyboard, mouse, shapely]</td>\n      <td>Silvan Schmidt</td>\n    </tr>\n  </tbody>\n</table>\n<p>169621 rows × 5 columns</p>\n</div>"
     },
     "execution_count": 6,
     "metadata": {},
     "output_type": "execute_result"
    }
   ],
   "source": [
    "info_df.insert(loc=2, column='upload_time', value=upload_time_df)\n",
    "info_df"
   ],
   "metadata": {
    "collapsed": false,
    "pycharm": {
     "name": "#%%\n"
    }
   }
  },
  {
   "cell_type": "code",
   "execution_count": 7,
   "outputs": [
    {
     "data": {
      "text/plain": "                                name  version          upload_time  \\\n0                          ws-sizzle    0.0.8  2020-12-23T22:08:32   \n1                          ws-sizzle    0.0.8  2020-12-23T22:08:32   \n2                          ws-sizzle    0.0.8  2020-12-23T22:08:32   \n3                          ws-sizzle    0.0.8  2020-12-23T22:08:32   \n4                          ws-sizzle    0.0.8  2020-12-23T22:08:32   \n...                              ...      ...                  ...   \n660143  aws-cdk.aws-s3-notifications  1.154.0  2022-04-28T02:02:26   \n660144                         peapy    1.1.0  2022-04-11T11:22:09   \n660145                         peapy    1.1.0  2022-04-11T11:22:09   \n660146                         peapy    1.1.0  2022-04-11T11:22:09   \n660147                         peapy    1.1.0  2022-04-11T11:22:09   \n\n                                   dependency               author  \n0                         json-rpc (>=1.13.0)    Dmitry Berezovsky  \n1                            pydantic (>=1.6)    Dmitry Berezovsky  \n2                aiohttp ; extra == 'aiohttp'    Dmitry Berezovsky  \n3       requests ; extra == 'requests-client'    Dmitry Berezovsky  \n4                tornado ; extra == 'tornado'    Dmitry Berezovsky  \n...                                       ...                  ...  \n660143                  publication (>=0.0.3)  Amazon Web Services  \n660144                  pygame (==2.1.3.dev4)       Silvan Schmidt  \n660145                               keyboard       Silvan Schmidt  \n660146                                  mouse       Silvan Schmidt  \n660147                                shapely       Silvan Schmidt  \n\n[660148 rows x 5 columns]",
      "text/html": "<div>\n<style scoped>\n    .dataframe tbody tr th:only-of-type {\n        vertical-align: middle;\n    }\n\n    .dataframe tbody tr th {\n        vertical-align: top;\n    }\n\n    .dataframe thead th {\n        text-align: right;\n    }\n</style>\n<table border=\"1\" class=\"dataframe\">\n  <thead>\n    <tr style=\"text-align: right;\">\n      <th></th>\n      <th>name</th>\n      <th>version</th>\n      <th>upload_time</th>\n      <th>dependency</th>\n      <th>author</th>\n    </tr>\n  </thead>\n  <tbody>\n    <tr>\n      <th>0</th>\n      <td>ws-sizzle</td>\n      <td>0.0.8</td>\n      <td>2020-12-23T22:08:32</td>\n      <td>json-rpc (&gt;=1.13.0)</td>\n      <td>Dmitry Berezovsky</td>\n    </tr>\n    <tr>\n      <th>1</th>\n      <td>ws-sizzle</td>\n      <td>0.0.8</td>\n      <td>2020-12-23T22:08:32</td>\n      <td>pydantic (&gt;=1.6)</td>\n      <td>Dmitry Berezovsky</td>\n    </tr>\n    <tr>\n      <th>2</th>\n      <td>ws-sizzle</td>\n      <td>0.0.8</td>\n      <td>2020-12-23T22:08:32</td>\n      <td>aiohttp ; extra == 'aiohttp'</td>\n      <td>Dmitry Berezovsky</td>\n    </tr>\n    <tr>\n      <th>3</th>\n      <td>ws-sizzle</td>\n      <td>0.0.8</td>\n      <td>2020-12-23T22:08:32</td>\n      <td>requests ; extra == 'requests-client'</td>\n      <td>Dmitry Berezovsky</td>\n    </tr>\n    <tr>\n      <th>4</th>\n      <td>ws-sizzle</td>\n      <td>0.0.8</td>\n      <td>2020-12-23T22:08:32</td>\n      <td>tornado ; extra == 'tornado'</td>\n      <td>Dmitry Berezovsky</td>\n    </tr>\n    <tr>\n      <th>...</th>\n      <td>...</td>\n      <td>...</td>\n      <td>...</td>\n      <td>...</td>\n      <td>...</td>\n    </tr>\n    <tr>\n      <th>660143</th>\n      <td>aws-cdk.aws-s3-notifications</td>\n      <td>1.154.0</td>\n      <td>2022-04-28T02:02:26</td>\n      <td>publication (&gt;=0.0.3)</td>\n      <td>Amazon Web Services</td>\n    </tr>\n    <tr>\n      <th>660144</th>\n      <td>peapy</td>\n      <td>1.1.0</td>\n      <td>2022-04-11T11:22:09</td>\n      <td>pygame (==2.1.3.dev4)</td>\n      <td>Silvan Schmidt</td>\n    </tr>\n    <tr>\n      <th>660145</th>\n      <td>peapy</td>\n      <td>1.1.0</td>\n      <td>2022-04-11T11:22:09</td>\n      <td>keyboard</td>\n      <td>Silvan Schmidt</td>\n    </tr>\n    <tr>\n      <th>660146</th>\n      <td>peapy</td>\n      <td>1.1.0</td>\n      <td>2022-04-11T11:22:09</td>\n      <td>mouse</td>\n      <td>Silvan Schmidt</td>\n    </tr>\n    <tr>\n      <th>660147</th>\n      <td>peapy</td>\n      <td>1.1.0</td>\n      <td>2022-04-11T11:22:09</td>\n      <td>shapely</td>\n      <td>Silvan Schmidt</td>\n    </tr>\n  </tbody>\n</table>\n<p>660148 rows × 5 columns</p>\n</div>"
     },
     "execution_count": 7,
     "metadata": {},
     "output_type": "execute_result"
    }
   ],
   "source": [
    "info_df = info_df.explode('dependency').reset_index(drop=True)\n",
    "info_df"
   ],
   "metadata": {
    "collapsed": false,
    "pycharm": {
     "name": "#%%\n"
    }
   }
  },
  {
   "cell_type": "markdown",
   "source": [
    "### Extracting information from the dependency string"
   ],
   "metadata": {
    "collapsed": false,
    "pycharm": {
     "name": "#%% md\n"
    }
   }
  },
  {
   "cell_type": "code",
   "execution_count": 8,
   "outputs": [],
   "source": [
    "def version_extractor(string: str) -> str:\n",
    "    if not string:\n",
    "        return '*'\n",
    "    # Replace ) with ( to make splitting easier and more precise\n",
    "    split = string.replace(')', '(').split('(')\n",
    "    # Remove the trailing parenthesis\n",
    "    return split[1] if len(split) > 1 else '*'\n",
    "\n",
    "def name_extractor(string: str) -> str | None:\n",
    "    # If we can't find either symbol, then we assume that's the dependency name\n",
    "    if not string:\n",
    "        return None\n",
    "    if '(' not in string and ';' not in string:\n",
    "        return string\n",
    "    # If there are no parenthesis, this will return the given string as a singleton list. If there are parenthesis, get rid of them.\n",
    "    no_parenthesis = string.split('(')[0]\n",
    "    no_semicolon = no_parenthesis.split(';')[0].strip()\n",
    "\n",
    "    return no_semicolon"
   ],
   "metadata": {
    "collapsed": false,
    "pycharm": {
     "name": "#%%\n"
    }
   }
  },
  {
   "cell_type": "code",
   "execution_count": 9,
   "outputs": [
    {
     "data": {
      "text/plain": "       dependency_name dependency_version\n0             json-rpc           >=1.13.0\n1             pydantic              >=1.6\n2              aiohttp                  *\n3             requests                  *\n4              tornado                  *\n...                ...                ...\n660143     publication            >=0.0.3\n660144          pygame       ==2.1.3.dev4\n660145        keyboard                  *\n660146           mouse                  *\n660147         shapely                  *\n\n[660148 rows x 2 columns]",
      "text/html": "<div>\n<style scoped>\n    .dataframe tbody tr th:only-of-type {\n        vertical-align: middle;\n    }\n\n    .dataframe tbody tr th {\n        vertical-align: top;\n    }\n\n    .dataframe thead th {\n        text-align: right;\n    }\n</style>\n<table border=\"1\" class=\"dataframe\">\n  <thead>\n    <tr style=\"text-align: right;\">\n      <th></th>\n      <th>dependency_name</th>\n      <th>dependency_version</th>\n    </tr>\n  </thead>\n  <tbody>\n    <tr>\n      <th>0</th>\n      <td>json-rpc</td>\n      <td>&gt;=1.13.0</td>\n    </tr>\n    <tr>\n      <th>1</th>\n      <td>pydantic</td>\n      <td>&gt;=1.6</td>\n    </tr>\n    <tr>\n      <th>2</th>\n      <td>aiohttp</td>\n      <td>*</td>\n    </tr>\n    <tr>\n      <th>3</th>\n      <td>requests</td>\n      <td>*</td>\n    </tr>\n    <tr>\n      <th>4</th>\n      <td>tornado</td>\n      <td>*</td>\n    </tr>\n    <tr>\n      <th>...</th>\n      <td>...</td>\n      <td>...</td>\n    </tr>\n    <tr>\n      <th>660143</th>\n      <td>publication</td>\n      <td>&gt;=0.0.3</td>\n    </tr>\n    <tr>\n      <th>660144</th>\n      <td>pygame</td>\n      <td>==2.1.3.dev4</td>\n    </tr>\n    <tr>\n      <th>660145</th>\n      <td>keyboard</td>\n      <td>*</td>\n    </tr>\n    <tr>\n      <th>660146</th>\n      <td>mouse</td>\n      <td>*</td>\n    </tr>\n    <tr>\n      <th>660147</th>\n      <td>shapely</td>\n      <td>*</td>\n    </tr>\n  </tbody>\n</table>\n<p>660148 rows × 2 columns</p>\n</div>"
     },
     "execution_count": 9,
     "metadata": {},
     "output_type": "execute_result"
    }
   ],
   "source": [
    "dependency_version_series = info_df['dependency'].apply(version_extractor)\n",
    "dependency_name_series = info_df['dependency'].apply(name_extractor)\n",
    "\n",
    "# Used just for visual purposes\n",
    "dependencies_df = pd.concat([dependency_name_series, dependency_version_series], axis=1, ignore_index=True)\n",
    "dependencies_df.columns = ['dependency_name', 'dependency_version']\n",
    "dependencies_df\n",
    "# Attempt to use multiprocessing. Ended up not using it since I discovered that using built-in strings is extremely fast compared to regex.\n",
    "# cores = multiprocessing.cpu_count()\n",
    "# chunks = np.array_split(info_df['dependency'], cores)\n",
    "#\n",
    "# with Pool(cores) as pool:\n",
    "#     processed = pd.concat(pool.map(extract_semantic_version, chunks), ignore_index=True)\n",
    "\n",
    "# processed\n",
    "# info_df.dependency.str.extract(compiled_rx)"
   ],
   "metadata": {
    "collapsed": false,
    "pycharm": {
     "name": "#%%\n"
    }
   }
  },
  {
   "cell_type": "code",
   "execution_count": 10,
   "outputs": [
    {
     "data": {
      "text/plain": "                                name  version          upload_time  \\\n0                          ws-sizzle    0.0.8  2020-12-23T22:08:32   \n1                          ws-sizzle    0.0.8  2020-12-23T22:08:32   \n2                          ws-sizzle    0.0.8  2020-12-23T22:08:32   \n3                          ws-sizzle    0.0.8  2020-12-23T22:08:32   \n4                          ws-sizzle    0.0.8  2020-12-23T22:08:32   \n...                              ...      ...                  ...   \n660143  aws-cdk.aws-s3-notifications  1.154.0  2022-04-28T02:02:26   \n660144                         peapy    1.1.0  2022-04-11T11:22:09   \n660145                         peapy    1.1.0  2022-04-11T11:22:09   \n660146                         peapy    1.1.0  2022-04-11T11:22:09   \n660147                         peapy    1.1.0  2022-04-11T11:22:09   \n\n         dependency dependency_version               author  \n0          json-rpc           >=1.13.0    Dmitry Berezovsky  \n1          pydantic              >=1.6    Dmitry Berezovsky  \n2           aiohttp                  *    Dmitry Berezovsky  \n3          requests                  *    Dmitry Berezovsky  \n4           tornado                  *    Dmitry Berezovsky  \n...             ...                ...                  ...  \n660143  publication            >=0.0.3  Amazon Web Services  \n660144       pygame       ==2.1.3.dev4       Silvan Schmidt  \n660145     keyboard                  *       Silvan Schmidt  \n660146        mouse                  *       Silvan Schmidt  \n660147      shapely                  *       Silvan Schmidt  \n\n[660148 rows x 6 columns]",
      "text/html": "<div>\n<style scoped>\n    .dataframe tbody tr th:only-of-type {\n        vertical-align: middle;\n    }\n\n    .dataframe tbody tr th {\n        vertical-align: top;\n    }\n\n    .dataframe thead th {\n        text-align: right;\n    }\n</style>\n<table border=\"1\" class=\"dataframe\">\n  <thead>\n    <tr style=\"text-align: right;\">\n      <th></th>\n      <th>name</th>\n      <th>version</th>\n      <th>upload_time</th>\n      <th>dependency</th>\n      <th>dependency_version</th>\n      <th>author</th>\n    </tr>\n  </thead>\n  <tbody>\n    <tr>\n      <th>0</th>\n      <td>ws-sizzle</td>\n      <td>0.0.8</td>\n      <td>2020-12-23T22:08:32</td>\n      <td>json-rpc</td>\n      <td>&gt;=1.13.0</td>\n      <td>Dmitry Berezovsky</td>\n    </tr>\n    <tr>\n      <th>1</th>\n      <td>ws-sizzle</td>\n      <td>0.0.8</td>\n      <td>2020-12-23T22:08:32</td>\n      <td>pydantic</td>\n      <td>&gt;=1.6</td>\n      <td>Dmitry Berezovsky</td>\n    </tr>\n    <tr>\n      <th>2</th>\n      <td>ws-sizzle</td>\n      <td>0.0.8</td>\n      <td>2020-12-23T22:08:32</td>\n      <td>aiohttp</td>\n      <td>*</td>\n      <td>Dmitry Berezovsky</td>\n    </tr>\n    <tr>\n      <th>3</th>\n      <td>ws-sizzle</td>\n      <td>0.0.8</td>\n      <td>2020-12-23T22:08:32</td>\n      <td>requests</td>\n      <td>*</td>\n      <td>Dmitry Berezovsky</td>\n    </tr>\n    <tr>\n      <th>4</th>\n      <td>ws-sizzle</td>\n      <td>0.0.8</td>\n      <td>2020-12-23T22:08:32</td>\n      <td>tornado</td>\n      <td>*</td>\n      <td>Dmitry Berezovsky</td>\n    </tr>\n    <tr>\n      <th>...</th>\n      <td>...</td>\n      <td>...</td>\n      <td>...</td>\n      <td>...</td>\n      <td>...</td>\n      <td>...</td>\n    </tr>\n    <tr>\n      <th>660143</th>\n      <td>aws-cdk.aws-s3-notifications</td>\n      <td>1.154.0</td>\n      <td>2022-04-28T02:02:26</td>\n      <td>publication</td>\n      <td>&gt;=0.0.3</td>\n      <td>Amazon Web Services</td>\n    </tr>\n    <tr>\n      <th>660144</th>\n      <td>peapy</td>\n      <td>1.1.0</td>\n      <td>2022-04-11T11:22:09</td>\n      <td>pygame</td>\n      <td>==2.1.3.dev4</td>\n      <td>Silvan Schmidt</td>\n    </tr>\n    <tr>\n      <th>660145</th>\n      <td>peapy</td>\n      <td>1.1.0</td>\n      <td>2022-04-11T11:22:09</td>\n      <td>keyboard</td>\n      <td>*</td>\n      <td>Silvan Schmidt</td>\n    </tr>\n    <tr>\n      <th>660146</th>\n      <td>peapy</td>\n      <td>1.1.0</td>\n      <td>2022-04-11T11:22:09</td>\n      <td>mouse</td>\n      <td>*</td>\n      <td>Silvan Schmidt</td>\n    </tr>\n    <tr>\n      <th>660147</th>\n      <td>peapy</td>\n      <td>1.1.0</td>\n      <td>2022-04-11T11:22:09</td>\n      <td>shapely</td>\n      <td>*</td>\n      <td>Silvan Schmidt</td>\n    </tr>\n  </tbody>\n</table>\n<p>660148 rows × 6 columns</p>\n</div>"
     },
     "execution_count": 10,
     "metadata": {},
     "output_type": "execute_result"
    }
   ],
   "source": [
    "info_df['dependency'] = dependency_name_series\n",
    "info_df.insert(4, 'dependency_version', dependency_version_series)\n",
    "info_df"
   ],
   "metadata": {
    "collapsed": false,
    "pycharm": {
     "name": "#%%\n"
    }
   }
  },
  {
   "cell_type": "markdown",
   "source": [
    "### Saving the processed data to a file"
   ],
   "metadata": {
    "collapsed": false,
    "pycharm": {
     "name": "#%% md\n"
    }
   }
  },
  {
   "cell_type": "code",
   "execution_count": 11,
   "outputs": [],
   "source": [
    "def convert_to_normalized_format(grouped_df: DataFrameGroupBy):\n",
    "    return_list = []\n",
    "    for _, rows in grouped_df:\n",
    "        inner_dict = {\n",
    "            'name': rows['name'].values[0],\n",
    "            'versions': {\n",
    "                rows['version'].values[0]: {\n",
    "                    'timestamp': rows['upload_time'].values[0],\n",
    "                    'dependencies': {}\n",
    "                }\n",
    "            }\n",
    "        }\n",
    "        for dep, v in zip(rows['dependency'].values, rows['dependency_version'].values):\n",
    "            inner_dict['versions'][rows['version'].values[0]]['dependencies'] |= {dep: v}\n",
    "        return_list.append(inner_dict)\n",
    "    return pd.DataFrame(return_list)"
   ],
   "metadata": {
    "collapsed": false,
    "pycharm": {
     "name": "#%%\n"
    }
   }
  },
  {
   "cell_type": "code",
   "execution_count": 14,
   "outputs": [
    {
     "data": {
      "text/plain": "Empty DataFrame\nColumns: [name, version, upload_time, dependency, dependency_version, author]\nIndex: []",
      "text/html": "<div>\n<style scoped>\n    .dataframe tbody tr th:only-of-type {\n        vertical-align: middle;\n    }\n\n    .dataframe tbody tr th {\n        vertical-align: top;\n    }\n\n    .dataframe thead th {\n        text-align: right;\n    }\n</style>\n<table border=\"1\" class=\"dataframe\">\n  <thead>\n    <tr style=\"text-align: right;\">\n      <th></th>\n      <th>name</th>\n      <th>version</th>\n      <th>upload_time</th>\n      <th>dependency</th>\n      <th>dependency_version</th>\n      <th>author</th>\n    </tr>\n  </thead>\n  <tbody>\n  </tbody>\n</table>\n</div>"
     },
     "metadata": {},
     "output_type": "display_data"
    },
    {
     "data": {
      "text/plain": "                          name  \\\n0               0x-order-utils   \n1                    0x-python   \n2                       0x20bf   \n3                    10-0-0-55   \n4      101903117-shivam-singal   \n...                        ...   \n96217                    zzgui   \n96218             zzha529-test   \n96219               zzsukitest   \n96220          zzx-deep-genome   \n96221                   zzz001   \n\n                                                versions  \n0      {'4.0.1': {'timestamp': '2021-04-22T20:15:37',...  \n1      {'1.0.16': {'timestamp': '2021-09-23T02:20:57'...  \n2      {'0.0.1': {'timestamp': '2022-03-08T23:49:14',...  \n3      {'2.0.4': {'timestamp': '2022-03-07T07:16:32',...  \n4      {'0.1': {'timestamp': '2022-02-27T20:12:19', '...  \n...                                                  ...  \n96217  {'0.1.16': {'timestamp': '2022-02-16T22:10:56'...  \n96218  {'1.16': {'timestamp': '2022-04-12T04:09:09', ...  \n96219  {'1.0.6': {'timestamp': '2021-12-23T09:27:37',...  \n96220  {'0.1.5': {'timestamp': '2021-06-07T11:57:45',...  \n96221  {'0.0.4': {'timestamp': '2021-08-03T14:27:16',...  \n\n[96222 rows x 2 columns]",
      "text/html": "<div>\n<style scoped>\n    .dataframe tbody tr th:only-of-type {\n        vertical-align: middle;\n    }\n\n    .dataframe tbody tr th {\n        vertical-align: top;\n    }\n\n    .dataframe thead th {\n        text-align: right;\n    }\n</style>\n<table border=\"1\" class=\"dataframe\">\n  <thead>\n    <tr style=\"text-align: right;\">\n      <th></th>\n      <th>name</th>\n      <th>versions</th>\n    </tr>\n  </thead>\n  <tbody>\n    <tr>\n      <th>0</th>\n      <td>0x-order-utils</td>\n      <td>{'4.0.1': {'timestamp': '2021-04-22T20:15:37',...</td>\n    </tr>\n    <tr>\n      <th>1</th>\n      <td>0x-python</td>\n      <td>{'1.0.16': {'timestamp': '2021-09-23T02:20:57'...</td>\n    </tr>\n    <tr>\n      <th>2</th>\n      <td>0x20bf</td>\n      <td>{'0.0.1': {'timestamp': '2022-03-08T23:49:14',...</td>\n    </tr>\n    <tr>\n      <th>3</th>\n      <td>10-0-0-55</td>\n      <td>{'2.0.4': {'timestamp': '2022-03-07T07:16:32',...</td>\n    </tr>\n    <tr>\n      <th>4</th>\n      <td>101903117-shivam-singal</td>\n      <td>{'0.1': {'timestamp': '2022-02-27T20:12:19', '...</td>\n    </tr>\n    <tr>\n      <th>...</th>\n      <td>...</td>\n      <td>...</td>\n    </tr>\n    <tr>\n      <th>96217</th>\n      <td>zzgui</td>\n      <td>{'0.1.16': {'timestamp': '2022-02-16T22:10:56'...</td>\n    </tr>\n    <tr>\n      <th>96218</th>\n      <td>zzha529-test</td>\n      <td>{'1.16': {'timestamp': '2022-04-12T04:09:09', ...</td>\n    </tr>\n    <tr>\n      <th>96219</th>\n      <td>zzsukitest</td>\n      <td>{'1.0.6': {'timestamp': '2021-12-23T09:27:37',...</td>\n    </tr>\n    <tr>\n      <th>96220</th>\n      <td>zzx-deep-genome</td>\n      <td>{'0.1.5': {'timestamp': '2021-06-07T11:57:45',...</td>\n    </tr>\n    <tr>\n      <th>96221</th>\n      <td>zzz001</td>\n      <td>{'0.0.4': {'timestamp': '2021-08-03T14:27:16',...</td>\n    </tr>\n  </tbody>\n</table>\n<p>96222 rows × 2 columns</p>\n</div>"
     },
     "execution_count": 14,
     "metadata": {},
     "output_type": "execute_result"
    }
   ],
   "source": [
    "normalized_df: DataFrame = info_df.copy().dropna()\n",
    "display(normalized_df.loc[normalized_df['name'] == '024travis-test024'])\n",
    "normalized_json_df = normalized_df.groupby('name').pipe(convert_to_normalized_format)\n",
    "normalized_json_df"
   ],
   "metadata": {
    "collapsed": false,
    "pycharm": {
     "name": "#%%\n"
    }
   }
  },
  {
   "cell_type": "code",
   "execution_count": 16,
   "outputs": [],
   "source": [
    "normalized_df.to_csv('../../data/output/dependencies.csv', index=False)\n",
    "normalized_json_df.to_json('../../data/output/dependencies.json', orient='records')"
   ],
   "metadata": {
    "collapsed": false,
    "pycharm": {
     "name": "#%%\n"
    }
   }
  },
  {
   "cell_type": "markdown",
   "source": [
    "## Converting Releases JSON to a DataFrame\n",
    "Decided against using releases as they do not contain meaningful information. Most of the time they only contain the most recent version that can be recovered from the info JSON"
   ],
   "metadata": {
    "collapsed": false,
    "pycharm": {
     "name": "#%% md\n"
    }
   }
  },
  {
   "cell_type": "code",
   "execution_count": null,
   "outputs": [],
   "source": [
    "# releases_df = pd.DataFrame(pypi_data['releases'].values.tolist()) --- Runs out of memory\n",
    "# releases_df = pypi_data['releases'].map(lambda x: x.keys())"
   ],
   "metadata": {
    "collapsed": false,
    "pycharm": {
     "name": "#%%\n"
    }
   }
  },
  {
   "cell_type": "markdown",
   "source": [
    "### Bits and bobs that were tinkered with but were scrapped"
   ],
   "metadata": {
    "collapsed": false,
    "pycharm": {
     "name": "#%% md\n"
    }
   }
  },
  {
   "cell_type": "code",
   "execution_count": null,
   "outputs": [],
   "source": [
    "# test = pypi_data['info'].apply(lambda el: json.loads(json.dumps(el)))\n",
    "# test\n",
    "# pypi_data['info'][0]\n"
   ],
   "metadata": {
    "collapsed": false,
    "pycharm": {
     "name": "#%%\n"
    }
   }
  },
  {
   "cell_type": "code",
   "execution_count": null,
   "outputs": [],
   "source": [
    "# pypi_data['info'].to_json('../../data/repology/pypi_info.json', orient='records', lines=True)"
   ],
   "metadata": {
    "collapsed": false,
    "pycharm": {
     "name": "#%%\n"
    }
   }
  },
  {
   "cell_type": "code",
   "execution_count": null,
   "outputs": [],
   "source": [
    "# pypi_data_reduced = pd.read_json('../../data/repology/pypi_info.json', orient='records', lines=True)"
   ],
   "metadata": {
    "collapsed": false,
    "pycharm": {
     "name": "#%%\n"
    }
   }
  },
  {
   "cell_type": "code",
   "execution_count": null,
   "outputs": [],
   "source": [
    "# pypi_data_reduced.dropna(subset=['requires_dist'], inplace=True)\n",
    "# pypi_data_reduced.reset_index(drop=True, inplace=True)\n",
    "# # pypi_data_reduced['requires_dist'] = pypi_data_reduced['requires_dist'].apply(json.loads)\n",
    "# pypi_data_reduced['requires_dist'] = [','.join(x) for x in pypi_data_reduced['requires_dist']]\n",
    "# pypi_data_reduced[['name', 'requires_dist']]\n",
    "# Select from pypi_data_reduced all the data that has name zzzzls-Spider\n",
    "# pypi_data_reduced[pypi_data_reduced['name'] == 'pandas']['requires_dist'].values[0]\n",
    "# pypi_data_reduced['']"
   ],
   "metadata": {
    "collapsed": false,
    "pycharm": {
     "name": "#%%\n"
    }
   }
  },
  {
   "cell_type": "code",
   "execution_count": null,
   "outputs": [],
   "source": [
    "# with open('../../data/repology/pypicache.json', 'r') as file:\n",
    "#     json_data = json.load(file)"
   ],
   "metadata": {
    "collapsed": false,
    "pycharm": {
     "name": "#%%\n"
    }
   }
  },
  {
   "cell_type": "code",
   "execution_count": null,
   "outputs": [],
   "source": [
    "# nested_json_data = pd.json_normalize(json_data, max_level=2)\n",
    "# nested_json_data"
   ],
   "metadata": {
    "collapsed": false,
    "pycharm": {
     "name": "#%%\n"
    }
   }
  },
  {
   "cell_type": "code",
   "execution_count": null,
   "outputs": [],
   "source": [
    "# chunks = pd.read_json('../../data/repology/pypicache.json', lines=True, chunksize=100000)\n",
    "#\n",
    "# for chunk in chunks:\n",
    "#     display(chunk)"
   ],
   "metadata": {
    "collapsed": false,
    "pycharm": {
     "name": "#%%\n"
    }
   }
  }
 ],
 "metadata": {
  "kernelspec": {
   "display_name": "Python 3",
   "language": "python",
   "name": "python3"
  },
  "language_info": {
   "codemirror_mode": {
    "name": "ipython",
    "version": 2
   },
   "file_extension": ".py",
   "mimetype": "text/x-python",
   "name": "python",
   "nbconvert_exporter": "python",
   "pygments_lexer": "ipython2",
   "version": "2.7.6"
  }
 },
 "nbformat": 4,
 "nbformat_minor": 0
}