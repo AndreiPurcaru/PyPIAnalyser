{
 "cells": [
  {
   "cell_type": "code",
   "execution_count": 1,
   "metadata": {
    "collapsed": true,
    "pycharm": {
     "name": "#%%\n"
    }
   },
   "outputs": [],
   "source": [
    "import pandas as pd\n",
    "\n",
    "pd.set_option('display.max_columns', 100)"
   ]
  },
  {
   "cell_type": "code",
   "execution_count": 2,
   "outputs": [
    {
     "data": {
      "text/plain": "                                                     info  last_serial  \\\n0       {'author': 'Dmitry Berezovsky', 'author_email'...      8973353   \n1       {'author': 'Abraham', 'author_email': 'abraham...      9481777   \n2       {'author': 'Sergei Minaev', 'author_email': 'i...      9764135   \n3       {'author': 'Wolfgang Schnerring <wosc@wosc.de>...     11184293   \n4       {'author': 'Thea Barnes', 'author_email': 'the...     11644911   \n...                                                   ...          ...   \n169616  {'author': 'Amazon Web Services', 'author_emai...     13647017   \n169617  {'author': 'Amazon Web Services', 'author_emai...     13647009   \n169618  {'author': '', 'author_email': '', 'bugtrack_u...     13625952   \n169619  {'author': 'Amazon Web Services', 'author_emai...     13647157   \n169620  {'author': 'Silvan Schmidt', 'author_email': '...     13476925   \n\n                                                 releases  \\\n0       {'0.0.8': [{'comment_text': '', 'digests': {'m...   \n1       {'1.0.0': [{'comment_text': '', 'digests': {'m...   \n2       {'0.5': [{'comment_text': '', 'digests': {'md5...   \n3       {'1.0.4': [{'comment_text': '', 'digests': {'m...   \n4       {'0.0.1': [{'comment_text': '', 'digests': {'m...   \n...                                                   ...   \n169616  {'1.154.0': [{'comment_text': '', 'digests': {...   \n169617  {'1.154.0': [{'comment_text': '', 'digests': {...   \n169618  {'0.0.23': [{'comment_text': '', 'digests': {'...   \n169619  {'1.154.0': [{'comment_text': '', 'digests': {...   \n169620  {'1.1.0': [{'comment_text': '', 'digests': {'m...   \n\n                                                     urls vulnerabilities  \n0       [{'comment_text': '', 'digests': {'md5': '360c...              []  \n1       [{'comment_text': '', 'digests': {'md5': 'dfef...              []  \n2       [{'comment_text': '', 'digests': {'md5': 'b612...              []  \n3       [{'comment_text': '', 'digests': {'md5': '55ed...              []  \n4       [{'comment_text': '', 'digests': {'md5': '3613...              []  \n...                                                   ...             ...  \n169616  [{'comment_text': '', 'digests': {'md5': 'ae15...              []  \n169617  [{'comment_text': '', 'digests': {'md5': '9bc9...              []  \n169618  [{'comment_text': '', 'digests': {'md5': '0d0a...              []  \n169619  [{'comment_text': '', 'digests': {'md5': 'dde6...              []  \n169620  [{'comment_text': '', 'digests': {'md5': '06db...              []  \n\n[169621 rows x 5 columns]",
      "text/html": "<div>\n<style scoped>\n    .dataframe tbody tr th:only-of-type {\n        vertical-align: middle;\n    }\n\n    .dataframe tbody tr th {\n        vertical-align: top;\n    }\n\n    .dataframe thead th {\n        text-align: right;\n    }\n</style>\n<table border=\"1\" class=\"dataframe\">\n  <thead>\n    <tr style=\"text-align: right;\">\n      <th></th>\n      <th>info</th>\n      <th>last_serial</th>\n      <th>releases</th>\n      <th>urls</th>\n      <th>vulnerabilities</th>\n    </tr>\n  </thead>\n  <tbody>\n    <tr>\n      <th>0</th>\n      <td>{'author': 'Dmitry Berezovsky', 'author_email'...</td>\n      <td>8973353</td>\n      <td>{'0.0.8': [{'comment_text': '', 'digests': {'m...</td>\n      <td>[{'comment_text': '', 'digests': {'md5': '360c...</td>\n      <td>[]</td>\n    </tr>\n    <tr>\n      <th>1</th>\n      <td>{'author': 'Abraham', 'author_email': 'abraham...</td>\n      <td>9481777</td>\n      <td>{'1.0.0': [{'comment_text': '', 'digests': {'m...</td>\n      <td>[{'comment_text': '', 'digests': {'md5': 'dfef...</td>\n      <td>[]</td>\n    </tr>\n    <tr>\n      <th>2</th>\n      <td>{'author': 'Sergei Minaev', 'author_email': 'i...</td>\n      <td>9764135</td>\n      <td>{'0.5': [{'comment_text': '', 'digests': {'md5...</td>\n      <td>[{'comment_text': '', 'digests': {'md5': 'b612...</td>\n      <td>[]</td>\n    </tr>\n    <tr>\n      <th>3</th>\n      <td>{'author': 'Wolfgang Schnerring &lt;wosc@wosc.de&gt;...</td>\n      <td>11184293</td>\n      <td>{'1.0.4': [{'comment_text': '', 'digests': {'m...</td>\n      <td>[{'comment_text': '', 'digests': {'md5': '55ed...</td>\n      <td>[]</td>\n    </tr>\n    <tr>\n      <th>4</th>\n      <td>{'author': 'Thea Barnes', 'author_email': 'the...</td>\n      <td>11644911</td>\n      <td>{'0.0.1': [{'comment_text': '', 'digests': {'m...</td>\n      <td>[{'comment_text': '', 'digests': {'md5': '3613...</td>\n      <td>[]</td>\n    </tr>\n    <tr>\n      <th>...</th>\n      <td>...</td>\n      <td>...</td>\n      <td>...</td>\n      <td>...</td>\n      <td>...</td>\n    </tr>\n    <tr>\n      <th>169616</th>\n      <td>{'author': 'Amazon Web Services', 'author_emai...</td>\n      <td>13647017</td>\n      <td>{'1.154.0': [{'comment_text': '', 'digests': {...</td>\n      <td>[{'comment_text': '', 'digests': {'md5': 'ae15...</td>\n      <td>[]</td>\n    </tr>\n    <tr>\n      <th>169617</th>\n      <td>{'author': 'Amazon Web Services', 'author_emai...</td>\n      <td>13647009</td>\n      <td>{'1.154.0': [{'comment_text': '', 'digests': {...</td>\n      <td>[{'comment_text': '', 'digests': {'md5': '9bc9...</td>\n      <td>[]</td>\n    </tr>\n    <tr>\n      <th>169618</th>\n      <td>{'author': '', 'author_email': '', 'bugtrack_u...</td>\n      <td>13625952</td>\n      <td>{'0.0.23': [{'comment_text': '', 'digests': {'...</td>\n      <td>[{'comment_text': '', 'digests': {'md5': '0d0a...</td>\n      <td>[]</td>\n    </tr>\n    <tr>\n      <th>169619</th>\n      <td>{'author': 'Amazon Web Services', 'author_emai...</td>\n      <td>13647157</td>\n      <td>{'1.154.0': [{'comment_text': '', 'digests': {...</td>\n      <td>[{'comment_text': '', 'digests': {'md5': 'dde6...</td>\n      <td>[]</td>\n    </tr>\n    <tr>\n      <th>169620</th>\n      <td>{'author': 'Silvan Schmidt', 'author_email': '...</td>\n      <td>13476925</td>\n      <td>{'1.1.0': [{'comment_text': '', 'digests': {'m...</td>\n      <td>[{'comment_text': '', 'digests': {'md5': '06db...</td>\n      <td>[]</td>\n    </tr>\n  </tbody>\n</table>\n<p>169621 rows × 5 columns</p>\n</div>"
     },
     "execution_count": 2,
     "metadata": {},
     "output_type": "execute_result"
    }
   ],
   "source": [
    "pypi_data = pd.read_json('../../data/repology/pypicache.json')\n",
    "pypi_data"
   ],
   "metadata": {
    "collapsed": false,
    "pycharm": {
     "name": "#%%\n"
    }
   }
  },
  {
   "cell_type": "markdown",
   "source": [
    "### Converting Info JSON to a DataFrame"
   ],
   "metadata": {
    "collapsed": false,
    "pycharm": {
     "name": "#%% md\n"
    }
   }
  },
  {
   "cell_type": "code",
   "execution_count": 3,
   "outputs": [
    {
     "data": {
      "text/plain": "                                name  version  \\\n0                          ws-sizzle    0.0.8   \n1                          ws-sizzle    0.0.8   \n2                          ws-sizzle    0.0.8   \n3                          ws-sizzle    0.0.8   \n4                          ws-sizzle    0.0.8   \n...                              ...      ...   \n660143  aws-cdk.aws-s3-notifications  1.154.0   \n660144                         peapy    1.1.0   \n660145                         peapy    1.1.0   \n660146                         peapy    1.1.0   \n660147                         peapy    1.1.0   \n\n                                   dependency               author  \n0                         json-rpc (>=1.13.0)    Dmitry Berezovsky  \n1                            pydantic (>=1.6)    Dmitry Berezovsky  \n2                aiohttp ; extra == 'aiohttp'    Dmitry Berezovsky  \n3       requests ; extra == 'requests-client'    Dmitry Berezovsky  \n4                tornado ; extra == 'tornado'    Dmitry Berezovsky  \n...                                       ...                  ...  \n660143                  publication (>=0.0.3)  Amazon Web Services  \n660144                  pygame (==2.1.3.dev4)       Silvan Schmidt  \n660145                               keyboard       Silvan Schmidt  \n660146                                  mouse       Silvan Schmidt  \n660147                                shapely       Silvan Schmidt  \n\n[660148 rows x 4 columns]",
      "text/html": "<div>\n<style scoped>\n    .dataframe tbody tr th:only-of-type {\n        vertical-align: middle;\n    }\n\n    .dataframe tbody tr th {\n        vertical-align: top;\n    }\n\n    .dataframe thead th {\n        text-align: right;\n    }\n</style>\n<table border=\"1\" class=\"dataframe\">\n  <thead>\n    <tr style=\"text-align: right;\">\n      <th></th>\n      <th>name</th>\n      <th>version</th>\n      <th>dependency</th>\n      <th>author</th>\n    </tr>\n  </thead>\n  <tbody>\n    <tr>\n      <th>0</th>\n      <td>ws-sizzle</td>\n      <td>0.0.8</td>\n      <td>json-rpc (&gt;=1.13.0)</td>\n      <td>Dmitry Berezovsky</td>\n    </tr>\n    <tr>\n      <th>1</th>\n      <td>ws-sizzle</td>\n      <td>0.0.8</td>\n      <td>pydantic (&gt;=1.6)</td>\n      <td>Dmitry Berezovsky</td>\n    </tr>\n    <tr>\n      <th>2</th>\n      <td>ws-sizzle</td>\n      <td>0.0.8</td>\n      <td>aiohttp ; extra == 'aiohttp'</td>\n      <td>Dmitry Berezovsky</td>\n    </tr>\n    <tr>\n      <th>3</th>\n      <td>ws-sizzle</td>\n      <td>0.0.8</td>\n      <td>requests ; extra == 'requests-client'</td>\n      <td>Dmitry Berezovsky</td>\n    </tr>\n    <tr>\n      <th>4</th>\n      <td>ws-sizzle</td>\n      <td>0.0.8</td>\n      <td>tornado ; extra == 'tornado'</td>\n      <td>Dmitry Berezovsky</td>\n    </tr>\n    <tr>\n      <th>...</th>\n      <td>...</td>\n      <td>...</td>\n      <td>...</td>\n      <td>...</td>\n    </tr>\n    <tr>\n      <th>660143</th>\n      <td>aws-cdk.aws-s3-notifications</td>\n      <td>1.154.0</td>\n      <td>publication (&gt;=0.0.3)</td>\n      <td>Amazon Web Services</td>\n    </tr>\n    <tr>\n      <th>660144</th>\n      <td>peapy</td>\n      <td>1.1.0</td>\n      <td>pygame (==2.1.3.dev4)</td>\n      <td>Silvan Schmidt</td>\n    </tr>\n    <tr>\n      <th>660145</th>\n      <td>peapy</td>\n      <td>1.1.0</td>\n      <td>keyboard</td>\n      <td>Silvan Schmidt</td>\n    </tr>\n    <tr>\n      <th>660146</th>\n      <td>peapy</td>\n      <td>1.1.0</td>\n      <td>mouse</td>\n      <td>Silvan Schmidt</td>\n    </tr>\n    <tr>\n      <th>660147</th>\n      <td>peapy</td>\n      <td>1.1.0</td>\n      <td>shapely</td>\n      <td>Silvan Schmidt</td>\n    </tr>\n  </tbody>\n</table>\n<p>660148 rows × 4 columns</p>\n</div>"
     },
     "execution_count": 3,
     "metadata": {},
     "output_type": "execute_result"
    }
   ],
   "source": [
    "# pypi_data['info'].map(lambda x: x['author'])\n",
    "# df = pypi_data['info'].apply(pd.Series) --- Slow in general. For the given case, just as fast as json_normalize (without a set max level) as that attempts to unnest the entire json object. ~ 30 seconds\n",
    "# df = pd.json_normalize(pypi_data['info']) --- Slow due to previously mentioned unnesting. ~ 30 seconds\n",
    "# df = pd.json_normalize(pypi_data['info'], max_level=0) --- Faster. ~ 5 seconds\n",
    "# df = pd.DataFrame(pypi_data['info'].values.tolist()) --- Fastest. ~ 0.5 seconds\n",
    "\n",
    "info_df = pd.DataFrame(pypi_data['info'].values.tolist())\n",
    "# display(info_df)\n",
    "info_df = info_df[['name', 'version', 'requires_dist', 'author']]\n",
    "# Rename headers to make it more readable\n",
    "info_df.rename(columns={'requires_dist': 'dependency', }, inplace=True)\n",
    "info_df = info_df.explode('dependency').reset_index(drop=True)\n",
    "info_df"
   ],
   "metadata": {
    "collapsed": false,
    "pycharm": {
     "name": "#%%\n"
    }
   }
  },
  {
   "cell_type": "markdown",
   "source": [
    "### Methods for extracting information from the dependency string"
   ],
   "metadata": {
    "collapsed": false,
    "pycharm": {
     "name": "#%% md\n"
    }
   }
  },
  {
   "cell_type": "code",
   "execution_count": 4,
   "outputs": [],
   "source": [
    "def version_extractor(string: str) -> str:\n",
    "    if not string:\n",
    "        return '*'\n",
    "    # Replace ) with ( to make splitting easier and more precise\n",
    "    split = string.replace(')', '(').split('(')\n",
    "    # Remove the trailing parenthesis\n",
    "    return split[1] if len(split) > 1 else '*'\n",
    "\n",
    "def name_extractor(string: str) -> str:\n",
    "    # If we can't find either symbol, then we assume that's the dependency name\n",
    "    if not string:\n",
    "        return 'None'\n",
    "    if '(' not in string and ';' not in string:\n",
    "        return string\n",
    "    # If there are no parenthesis, this will return the given string as a singleton list. If there are parenthesis, get rid of them.\n",
    "    no_parenthesis = string.split('(')[0]\n",
    "    no_semicolon = no_parenthesis.split(';')[0].strip()\n",
    "\n",
    "    return no_semicolon"
   ],
   "metadata": {
    "collapsed": false,
    "pycharm": {
     "name": "#%%\n"
    }
   }
  },
  {
   "cell_type": "code",
   "execution_count": 5,
   "outputs": [
    {
     "data": {
      "text/plain": "       dependency_name dependency_version\n0             json-rpc           >=1.13.0\n1             pydantic              >=1.6\n2              aiohttp                  *\n3             requests                  *\n4              tornado                  *\n...                ...                ...\n660143     publication            >=0.0.3\n660144          pygame       ==2.1.3.dev4\n660145        keyboard                  *\n660146           mouse                  *\n660147         shapely                  *\n\n[660148 rows x 2 columns]",
      "text/html": "<div>\n<style scoped>\n    .dataframe tbody tr th:only-of-type {\n        vertical-align: middle;\n    }\n\n    .dataframe tbody tr th {\n        vertical-align: top;\n    }\n\n    .dataframe thead th {\n        text-align: right;\n    }\n</style>\n<table border=\"1\" class=\"dataframe\">\n  <thead>\n    <tr style=\"text-align: right;\">\n      <th></th>\n      <th>dependency_name</th>\n      <th>dependency_version</th>\n    </tr>\n  </thead>\n  <tbody>\n    <tr>\n      <th>0</th>\n      <td>json-rpc</td>\n      <td>&gt;=1.13.0</td>\n    </tr>\n    <tr>\n      <th>1</th>\n      <td>pydantic</td>\n      <td>&gt;=1.6</td>\n    </tr>\n    <tr>\n      <th>2</th>\n      <td>aiohttp</td>\n      <td>*</td>\n    </tr>\n    <tr>\n      <th>3</th>\n      <td>requests</td>\n      <td>*</td>\n    </tr>\n    <tr>\n      <th>4</th>\n      <td>tornado</td>\n      <td>*</td>\n    </tr>\n    <tr>\n      <th>...</th>\n      <td>...</td>\n      <td>...</td>\n    </tr>\n    <tr>\n      <th>660143</th>\n      <td>publication</td>\n      <td>&gt;=0.0.3</td>\n    </tr>\n    <tr>\n      <th>660144</th>\n      <td>pygame</td>\n      <td>==2.1.3.dev4</td>\n    </tr>\n    <tr>\n      <th>660145</th>\n      <td>keyboard</td>\n      <td>*</td>\n    </tr>\n    <tr>\n      <th>660146</th>\n      <td>mouse</td>\n      <td>*</td>\n    </tr>\n    <tr>\n      <th>660147</th>\n      <td>shapely</td>\n      <td>*</td>\n    </tr>\n  </tbody>\n</table>\n<p>660148 rows × 2 columns</p>\n</div>"
     },
     "execution_count": 5,
     "metadata": {},
     "output_type": "execute_result"
    }
   ],
   "source": [
    "dependency_version_series = info_df['dependency'].apply(version_extractor)\n",
    "dependency_name_series = info_df['dependency'].apply(name_extractor)\n",
    "\n",
    "# Used just for visual purposes\n",
    "dependencies_df = pd.concat([dependency_name_series, dependency_version_series], axis=1, ignore_index=True)\n",
    "dependencies_df.columns = ['dependency_name', 'dependency_version']\n",
    "dependencies_df\n",
    "# Attempt to use multiprocessing. Ended up not using it since I discovered that using built-in strings is extremely fast compared to regex.\n",
    "# cores = multiprocessing.cpu_count()\n",
    "# chunks = np.array_split(info_df['dependency'], cores)\n",
    "#\n",
    "# with Pool(cores) as pool:\n",
    "#     processed = pd.concat(pool.map(extract_semantic_version, chunks), ignore_index=True)\n",
    "\n",
    "# processed\n",
    "# info_df.dependency.str.extract(compiled_rx)"
   ],
   "metadata": {
    "collapsed": false,
    "pycharm": {
     "name": "#%%\n"
    }
   }
  },
  {
   "cell_type": "code",
   "execution_count": 6,
   "outputs": [
    {
     "data": {
      "text/plain": "                                name  version   dependency dependency_version  \\\n0                          ws-sizzle    0.0.8     json-rpc           >=1.13.0   \n1                          ws-sizzle    0.0.8     pydantic              >=1.6   \n2                          ws-sizzle    0.0.8      aiohttp                  *   \n3                          ws-sizzle    0.0.8     requests                  *   \n4                          ws-sizzle    0.0.8      tornado                  *   \n...                              ...      ...          ...                ...   \n660143  aws-cdk.aws-s3-notifications  1.154.0  publication            >=0.0.3   \n660144                         peapy    1.1.0       pygame       ==2.1.3.dev4   \n660145                         peapy    1.1.0     keyboard                  *   \n660146                         peapy    1.1.0        mouse                  *   \n660147                         peapy    1.1.0      shapely                  *   \n\n                     author  \n0         Dmitry Berezovsky  \n1         Dmitry Berezovsky  \n2         Dmitry Berezovsky  \n3         Dmitry Berezovsky  \n4         Dmitry Berezovsky  \n...                     ...  \n660143  Amazon Web Services  \n660144       Silvan Schmidt  \n660145       Silvan Schmidt  \n660146       Silvan Schmidt  \n660147       Silvan Schmidt  \n\n[660148 rows x 5 columns]",
      "text/html": "<div>\n<style scoped>\n    .dataframe tbody tr th:only-of-type {\n        vertical-align: middle;\n    }\n\n    .dataframe tbody tr th {\n        vertical-align: top;\n    }\n\n    .dataframe thead th {\n        text-align: right;\n    }\n</style>\n<table border=\"1\" class=\"dataframe\">\n  <thead>\n    <tr style=\"text-align: right;\">\n      <th></th>\n      <th>name</th>\n      <th>version</th>\n      <th>dependency</th>\n      <th>dependency_version</th>\n      <th>author</th>\n    </tr>\n  </thead>\n  <tbody>\n    <tr>\n      <th>0</th>\n      <td>ws-sizzle</td>\n      <td>0.0.8</td>\n      <td>json-rpc</td>\n      <td>&gt;=1.13.0</td>\n      <td>Dmitry Berezovsky</td>\n    </tr>\n    <tr>\n      <th>1</th>\n      <td>ws-sizzle</td>\n      <td>0.0.8</td>\n      <td>pydantic</td>\n      <td>&gt;=1.6</td>\n      <td>Dmitry Berezovsky</td>\n    </tr>\n    <tr>\n      <th>2</th>\n      <td>ws-sizzle</td>\n      <td>0.0.8</td>\n      <td>aiohttp</td>\n      <td>*</td>\n      <td>Dmitry Berezovsky</td>\n    </tr>\n    <tr>\n      <th>3</th>\n      <td>ws-sizzle</td>\n      <td>0.0.8</td>\n      <td>requests</td>\n      <td>*</td>\n      <td>Dmitry Berezovsky</td>\n    </tr>\n    <tr>\n      <th>4</th>\n      <td>ws-sizzle</td>\n      <td>0.0.8</td>\n      <td>tornado</td>\n      <td>*</td>\n      <td>Dmitry Berezovsky</td>\n    </tr>\n    <tr>\n      <th>...</th>\n      <td>...</td>\n      <td>...</td>\n      <td>...</td>\n      <td>...</td>\n      <td>...</td>\n    </tr>\n    <tr>\n      <th>660143</th>\n      <td>aws-cdk.aws-s3-notifications</td>\n      <td>1.154.0</td>\n      <td>publication</td>\n      <td>&gt;=0.0.3</td>\n      <td>Amazon Web Services</td>\n    </tr>\n    <tr>\n      <th>660144</th>\n      <td>peapy</td>\n      <td>1.1.0</td>\n      <td>pygame</td>\n      <td>==2.1.3.dev4</td>\n      <td>Silvan Schmidt</td>\n    </tr>\n    <tr>\n      <th>660145</th>\n      <td>peapy</td>\n      <td>1.1.0</td>\n      <td>keyboard</td>\n      <td>*</td>\n      <td>Silvan Schmidt</td>\n    </tr>\n    <tr>\n      <th>660146</th>\n      <td>peapy</td>\n      <td>1.1.0</td>\n      <td>mouse</td>\n      <td>*</td>\n      <td>Silvan Schmidt</td>\n    </tr>\n    <tr>\n      <th>660147</th>\n      <td>peapy</td>\n      <td>1.1.0</td>\n      <td>shapely</td>\n      <td>*</td>\n      <td>Silvan Schmidt</td>\n    </tr>\n  </tbody>\n</table>\n<p>660148 rows × 5 columns</p>\n</div>"
     },
     "execution_count": 6,
     "metadata": {},
     "output_type": "execute_result"
    }
   ],
   "source": [
    "info_df['dependency'] = dependency_name_series\n",
    "info_df.insert(3, 'dependency_version', dependency_version_series)\n",
    "info_df"
   ],
   "metadata": {
    "collapsed": false,
    "pycharm": {
     "name": "#%%\n"
    }
   }
  },
  {
   "cell_type": "markdown",
   "source": [
    "### Saving the processed data to a file"
   ],
   "metadata": {
    "collapsed": false,
    "pycharm": {
     "name": "#%% md\n"
    }
   }
  },
  {
   "cell_type": "code",
   "execution_count": 9,
   "outputs": [],
   "source": [
    "info_df.to_json('../../data/output/dependencies.json', orient='records')\n",
    "info_df.to_csv('../../data/output/dependencies.csv')"
   ],
   "metadata": {
    "collapsed": false,
    "pycharm": {
     "name": "#%%\n"
    }
   }
  },
  {
   "cell_type": "markdown",
   "source": [
    "## Converting Releases JSON to a DataFrame\n",
    "Decided against using releases as they do not contain meaningful information. Most of the time they only contain the most recent version that can be recovered from the info JSON"
   ],
   "metadata": {
    "collapsed": false,
    "pycharm": {
     "name": "#%% md\n"
    }
   }
  },
  {
   "cell_type": "code",
   "execution_count": null,
   "outputs": [],
   "source": [
    "# releases_df = pd.DataFrame(pypi_data['releases'].values.tolist()) --- Runs out of memory\n",
    "# releases_df = pypi_data['releases'].map(lambda x: x.keys())"
   ],
   "metadata": {
    "collapsed": false,
    "pycharm": {
     "name": "#%%\n"
    }
   }
  },
  {
   "cell_type": "markdown",
   "source": [
    "### Bits and bobs that were tinkered with but were scrapped"
   ],
   "metadata": {
    "collapsed": false,
    "pycharm": {
     "name": "#%% md\n"
    }
   }
  },
  {
   "cell_type": "code",
   "execution_count": null,
   "outputs": [],
   "source": [
    "# test = pypi_data['info'].apply(lambda el: json.loads(json.dumps(el)))\n",
    "# test\n",
    "# pypi_data['info'][0]\n"
   ],
   "metadata": {
    "collapsed": false,
    "pycharm": {
     "name": "#%%\n"
    }
   }
  },
  {
   "cell_type": "code",
   "execution_count": null,
   "outputs": [],
   "source": [
    "# pypi_data['info'].to_json('../../data/repology/pypi_info.json', orient='records', lines=True)"
   ],
   "metadata": {
    "collapsed": false,
    "pycharm": {
     "name": "#%%\n"
    }
   }
  },
  {
   "cell_type": "code",
   "execution_count": null,
   "outputs": [],
   "source": [
    "# pypi_data_reduced = pd.read_json('../../data/repology/pypi_info.json', orient='records', lines=True)"
   ],
   "metadata": {
    "collapsed": false,
    "pycharm": {
     "name": "#%%\n"
    }
   }
  },
  {
   "cell_type": "code",
   "execution_count": null,
   "outputs": [],
   "source": [
    "# pypi_data_reduced.dropna(subset=['requires_dist'], inplace=True)\n",
    "# pypi_data_reduced.reset_index(drop=True, inplace=True)\n",
    "# # pypi_data_reduced['requires_dist'] = pypi_data_reduced['requires_dist'].apply(json.loads)\n",
    "# pypi_data_reduced['requires_dist'] = [','.join(x) for x in pypi_data_reduced['requires_dist']]\n",
    "# pypi_data_reduced[['name', 'requires_dist']]\n",
    "# Select from pypi_data_reduced all the data that has name zzzzls-Spider\n",
    "# pypi_data_reduced[pypi_data_reduced['name'] == 'pandas']['requires_dist'].values[0]\n",
    "# pypi_data_reduced['']"
   ],
   "metadata": {
    "collapsed": false,
    "pycharm": {
     "name": "#%%\n"
    }
   }
  },
  {
   "cell_type": "code",
   "execution_count": null,
   "outputs": [],
   "source": [
    "# with open('../../data/repology/pypicache.json', 'r') as file:\n",
    "#     json_data = json.load(file)"
   ],
   "metadata": {
    "collapsed": false,
    "pycharm": {
     "name": "#%%\n"
    }
   }
  },
  {
   "cell_type": "code",
   "execution_count": null,
   "outputs": [],
   "source": [
    "# nested_json_data = pd.json_normalize(json_data, max_level=2)\n",
    "# nested_json_data"
   ],
   "metadata": {
    "collapsed": false,
    "pycharm": {
     "name": "#%%\n"
    }
   }
  },
  {
   "cell_type": "code",
   "execution_count": null,
   "outputs": [],
   "source": [
    "# chunks = pd.read_json('../../data/repology/pypicache.json', lines=True, chunksize=100000)\n",
    "#\n",
    "# for chunk in chunks:\n",
    "#     display(chunk)"
   ],
   "metadata": {
    "collapsed": false,
    "pycharm": {
     "name": "#%%\n"
    }
   }
  }
 ],
 "metadata": {
  "kernelspec": {
   "display_name": "Python 3",
   "language": "python",
   "name": "python3"
  },
  "language_info": {
   "codemirror_mode": {
    "name": "ipython",
    "version": 2
   },
   "file_extension": ".py",
   "mimetype": "text/x-python",
   "name": "python",
   "nbconvert_exporter": "python",
   "pygments_lexer": "ipython2",
   "version": "2.7.6"
  }
 },
 "nbformat": 4,
 "nbformat_minor": 0
}