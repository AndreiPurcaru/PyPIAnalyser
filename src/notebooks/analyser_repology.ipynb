{
 "cells": [
  {
   "cell_type": "code",
   "execution_count": 1,
   "metadata": {
    "collapsed": true,
    "pycharm": {
     "name": "#%%\n"
    }
   },
   "outputs": [],
   "source": [
    "import pandas as pd\n",
    "from pandas import DataFrame, Series\n",
    "\n",
    "from src.lib import version_extractor, name_extractor\n",
    "\n",
    "pd.set_option('display.max_columns', 100)"
   ]
  },
  {
   "cell_type": "code",
   "execution_count": 2,
   "outputs": [
    {
     "data": {
      "text/plain": "                                                     info  last_serial  \\\n0       {'author': 'Dmitry Berezovsky', 'author_email'...      8973353   \n1       {'author': 'Abraham', 'author_email': 'abraham...      9481777   \n2       {'author': 'Sergei Minaev', 'author_email': 'i...      9764135   \n3       {'author': 'Wolfgang Schnerring <wosc@wosc.de>...     11184293   \n4       {'author': 'Thea Barnes', 'author_email': 'the...     11644911   \n...                                                   ...          ...   \n169616  {'author': 'Amazon Web Services', 'author_emai...     13647017   \n169617  {'author': 'Amazon Web Services', 'author_emai...     13647009   \n169618  {'author': '', 'author_email': '', 'bugtrack_u...     13625952   \n169619  {'author': 'Amazon Web Services', 'author_emai...     13647157   \n169620  {'author': 'Silvan Schmidt', 'author_email': '...     13476925   \n\n                                                 releases  \\\n0       {'0.0.8': [{'comment_text': '', 'digests': {'m...   \n1       {'1.0.0': [{'comment_text': '', 'digests': {'m...   \n2       {'0.5': [{'comment_text': '', 'digests': {'md5...   \n3       {'1.0.4': [{'comment_text': '', 'digests': {'m...   \n4       {'0.0.1': [{'comment_text': '', 'digests': {'m...   \n...                                                   ...   \n169616  {'1.154.0': [{'comment_text': '', 'digests': {...   \n169617  {'1.154.0': [{'comment_text': '', 'digests': {...   \n169618  {'0.0.23': [{'comment_text': '', 'digests': {'...   \n169619  {'1.154.0': [{'comment_text': '', 'digests': {...   \n169620  {'1.1.0': [{'comment_text': '', 'digests': {'m...   \n\n                                                     urls vulnerabilities  \n0       [{'comment_text': '', 'digests': {'md5': '360c...              []  \n1       [{'comment_text': '', 'digests': {'md5': 'dfef...              []  \n2       [{'comment_text': '', 'digests': {'md5': 'b612...              []  \n3       [{'comment_text': '', 'digests': {'md5': '55ed...              []  \n4       [{'comment_text': '', 'digests': {'md5': '3613...              []  \n...                                                   ...             ...  \n169616  [{'comment_text': '', 'digests': {'md5': 'ae15...              []  \n169617  [{'comment_text': '', 'digests': {'md5': '9bc9...              []  \n169618  [{'comment_text': '', 'digests': {'md5': '0d0a...              []  \n169619  [{'comment_text': '', 'digests': {'md5': 'dde6...              []  \n169620  [{'comment_text': '', 'digests': {'md5': '06db...              []  \n\n[169621 rows x 5 columns]",
      "text/html": "<div>\n<style scoped>\n    .dataframe tbody tr th:only-of-type {\n        vertical-align: middle;\n    }\n\n    .dataframe tbody tr th {\n        vertical-align: top;\n    }\n\n    .dataframe thead th {\n        text-align: right;\n    }\n</style>\n<table border=\"1\" class=\"dataframe\">\n  <thead>\n    <tr style=\"text-align: right;\">\n      <th></th>\n      <th>info</th>\n      <th>last_serial</th>\n      <th>releases</th>\n      <th>urls</th>\n      <th>vulnerabilities</th>\n    </tr>\n  </thead>\n  <tbody>\n    <tr>\n      <th>0</th>\n      <td>{'author': 'Dmitry Berezovsky', 'author_email'...</td>\n      <td>8973353</td>\n      <td>{'0.0.8': [{'comment_text': '', 'digests': {'m...</td>\n      <td>[{'comment_text': '', 'digests': {'md5': '360c...</td>\n      <td>[]</td>\n    </tr>\n    <tr>\n      <th>1</th>\n      <td>{'author': 'Abraham', 'author_email': 'abraham...</td>\n      <td>9481777</td>\n      <td>{'1.0.0': [{'comment_text': '', 'digests': {'m...</td>\n      <td>[{'comment_text': '', 'digests': {'md5': 'dfef...</td>\n      <td>[]</td>\n    </tr>\n    <tr>\n      <th>2</th>\n      <td>{'author': 'Sergei Minaev', 'author_email': 'i...</td>\n      <td>9764135</td>\n      <td>{'0.5': [{'comment_text': '', 'digests': {'md5...</td>\n      <td>[{'comment_text': '', 'digests': {'md5': 'b612...</td>\n      <td>[]</td>\n    </tr>\n    <tr>\n      <th>3</th>\n      <td>{'author': 'Wolfgang Schnerring &lt;wosc@wosc.de&gt;...</td>\n      <td>11184293</td>\n      <td>{'1.0.4': [{'comment_text': '', 'digests': {'m...</td>\n      <td>[{'comment_text': '', 'digests': {'md5': '55ed...</td>\n      <td>[]</td>\n    </tr>\n    <tr>\n      <th>4</th>\n      <td>{'author': 'Thea Barnes', 'author_email': 'the...</td>\n      <td>11644911</td>\n      <td>{'0.0.1': [{'comment_text': '', 'digests': {'m...</td>\n      <td>[{'comment_text': '', 'digests': {'md5': '3613...</td>\n      <td>[]</td>\n    </tr>\n    <tr>\n      <th>...</th>\n      <td>...</td>\n      <td>...</td>\n      <td>...</td>\n      <td>...</td>\n      <td>...</td>\n    </tr>\n    <tr>\n      <th>169616</th>\n      <td>{'author': 'Amazon Web Services', 'author_emai...</td>\n      <td>13647017</td>\n      <td>{'1.154.0': [{'comment_text': '', 'digests': {...</td>\n      <td>[{'comment_text': '', 'digests': {'md5': 'ae15...</td>\n      <td>[]</td>\n    </tr>\n    <tr>\n      <th>169617</th>\n      <td>{'author': 'Amazon Web Services', 'author_emai...</td>\n      <td>13647009</td>\n      <td>{'1.154.0': [{'comment_text': '', 'digests': {...</td>\n      <td>[{'comment_text': '', 'digests': {'md5': '9bc9...</td>\n      <td>[]</td>\n    </tr>\n    <tr>\n      <th>169618</th>\n      <td>{'author': '', 'author_email': '', 'bugtrack_u...</td>\n      <td>13625952</td>\n      <td>{'0.0.23': [{'comment_text': '', 'digests': {'...</td>\n      <td>[{'comment_text': '', 'digests': {'md5': '0d0a...</td>\n      <td>[]</td>\n    </tr>\n    <tr>\n      <th>169619</th>\n      <td>{'author': 'Amazon Web Services', 'author_emai...</td>\n      <td>13647157</td>\n      <td>{'1.154.0': [{'comment_text': '', 'digests': {...</td>\n      <td>[{'comment_text': '', 'digests': {'md5': 'dde6...</td>\n      <td>[]</td>\n    </tr>\n    <tr>\n      <th>169620</th>\n      <td>{'author': 'Silvan Schmidt', 'author_email': '...</td>\n      <td>13476925</td>\n      <td>{'1.1.0': [{'comment_text': '', 'digests': {'m...</td>\n      <td>[{'comment_text': '', 'digests': {'md5': '06db...</td>\n      <td>[]</td>\n    </tr>\n  </tbody>\n</table>\n<p>169621 rows × 5 columns</p>\n</div>"
     },
     "execution_count": 2,
     "metadata": {},
     "output_type": "execute_result"
    }
   ],
   "source": [
    "pypi_data = pd.read_json('../../data/repology/pypicache.json')\n",
    "pypi_data"
   ],
   "metadata": {
    "collapsed": false,
    "pycharm": {
     "name": "#%%\n"
    }
   }
  },
  {
   "cell_type": "markdown",
   "source": [
    "### Converting Info JSON to a DataFrame"
   ],
   "metadata": {
    "collapsed": false,
    "pycharm": {
     "name": "#%% md\n"
    }
   }
  },
  {
   "cell_type": "code",
   "execution_count": 3,
   "outputs": [],
   "source": [
    "# pypi_data['info'].map(lambda x: x['author'])\n",
    "# df = pypi_data['info'].apply(pd.Series) --- Slow in general. For the given case, just as fast as json_normalize (without a set max level) as that attempts to unnest the entire json object. ~ 30 seconds\n",
    "# df = pd.json_normalize(pypi_data['info']) --- Slow due to previously mentioned unnesting. ~ 30 seconds\n",
    "# df = pd.json_normalize(pypi_data['info'], max_level=0) --- Faster. ~ 5 seconds\n",
    "# df = pd.DataFrame(pypi_data['info'].values.tolist()) --- Fastest. ~ 0.5 seconds\n",
    "\n",
    "info_df = pd.DataFrame(pypi_data['info'].values.tolist())\n",
    "info_df = info_df[['name', 'version', 'requires_dist', 'author']]\n",
    "# Rename headers to make it more readable\n",
    "info_df.rename(columns={'requires_dist': 'dependency', }, inplace=True)"
   ],
   "metadata": {
    "collapsed": false,
    "pycharm": {
     "name": "#%%\n"
    }
   }
  },
  {
   "cell_type": "code",
   "execution_count": 4,
   "outputs": [
    {
     "data": {
      "text/plain": "                     name version  \\\n0       024travis-test024   0.1.0   \n1          0x-order-utils   4.0.1   \n2               0x-python  1.0.16   \n3                  0x20bf   0.0.1   \n4              0x2nac0nda     0.1   \n...                   ...     ...   \n169616          zzy-AxCat     0.1   \n169617             zzz001   0.0.4   \n169618        zzzPyPiTest   0.0.2   \n169619       zzzPyPiTest2   0.0.2   \n169620       zzzeeksphinx   1.3.3   \n\n                                               dependency              author  \n0                                                    None      Travis Torline  \n1       [0x-contract-addresses, 0x-contract-artifacts,...    F. Eugene Aumson  \n2                                              [requests]             Skeetzo  \n3       [PyYAML (==5.4.1), aiohttp (==3.7.4.post0), gn...       randymcmillan  \n4                                                    None  Abdalla Abdelrhman  \n...                                                   ...                 ...  \n169616                                               None                 zzy  \n169617                                           [PyYAML]          Jasper Jin  \n169618                                               None           zhaozizhe  \n169619                                               None           zhaozizhe  \n169620                                               None          Mike Bayer  \n\n[169621 rows x 4 columns]",
      "text/html": "<div>\n<style scoped>\n    .dataframe tbody tr th:only-of-type {\n        vertical-align: middle;\n    }\n\n    .dataframe tbody tr th {\n        vertical-align: top;\n    }\n\n    .dataframe thead th {\n        text-align: right;\n    }\n</style>\n<table border=\"1\" class=\"dataframe\">\n  <thead>\n    <tr style=\"text-align: right;\">\n      <th></th>\n      <th>name</th>\n      <th>version</th>\n      <th>dependency</th>\n      <th>author</th>\n    </tr>\n  </thead>\n  <tbody>\n    <tr>\n      <th>0</th>\n      <td>024travis-test024</td>\n      <td>0.1.0</td>\n      <td>None</td>\n      <td>Travis Torline</td>\n    </tr>\n    <tr>\n      <th>1</th>\n      <td>0x-order-utils</td>\n      <td>4.0.1</td>\n      <td>[0x-contract-addresses, 0x-contract-artifacts,...</td>\n      <td>F. Eugene Aumson</td>\n    </tr>\n    <tr>\n      <th>2</th>\n      <td>0x-python</td>\n      <td>1.0.16</td>\n      <td>[requests]</td>\n      <td>Skeetzo</td>\n    </tr>\n    <tr>\n      <th>3</th>\n      <td>0x20bf</td>\n      <td>0.0.1</td>\n      <td>[PyYAML (==5.4.1), aiohttp (==3.7.4.post0), gn...</td>\n      <td>randymcmillan</td>\n    </tr>\n    <tr>\n      <th>4</th>\n      <td>0x2nac0nda</td>\n      <td>0.1</td>\n      <td>None</td>\n      <td>Abdalla Abdelrhman</td>\n    </tr>\n    <tr>\n      <th>...</th>\n      <td>...</td>\n      <td>...</td>\n      <td>...</td>\n      <td>...</td>\n    </tr>\n    <tr>\n      <th>169616</th>\n      <td>zzy-AxCat</td>\n      <td>0.1</td>\n      <td>None</td>\n      <td>zzy</td>\n    </tr>\n    <tr>\n      <th>169617</th>\n      <td>zzz001</td>\n      <td>0.0.4</td>\n      <td>[PyYAML]</td>\n      <td>Jasper Jin</td>\n    </tr>\n    <tr>\n      <th>169618</th>\n      <td>zzzPyPiTest</td>\n      <td>0.0.2</td>\n      <td>None</td>\n      <td>zhaozizhe</td>\n    </tr>\n    <tr>\n      <th>169619</th>\n      <td>zzzPyPiTest2</td>\n      <td>0.0.2</td>\n      <td>None</td>\n      <td>zhaozizhe</td>\n    </tr>\n    <tr>\n      <th>169620</th>\n      <td>zzzeeksphinx</td>\n      <td>1.3.3</td>\n      <td>None</td>\n      <td>Mike Bayer</td>\n    </tr>\n  </tbody>\n</table>\n<p>169621 rows × 4 columns</p>\n</div>"
     },
     "execution_count": 4,
     "metadata": {},
     "output_type": "execute_result"
    }
   ],
   "source": [
    "sorted_df: DataFrame = info_df.sort_values(by=['name', 'version'], ascending=[True, False], ignore_index=True)\n",
    "sorted_df"
   ],
   "metadata": {
    "collapsed": false,
    "pycharm": {
     "name": "#%%\n"
    }
   }
  },
  {
   "cell_type": "markdown",
   "source": [],
   "metadata": {
    "collapsed": false,
    "pycharm": {
     "name": "#%% md\n"
    }
   }
  },
  {
   "cell_type": "code",
   "execution_count": 5,
   "outputs": [],
   "source": [
    "def extract_date_from_nested_releases_json(releases_json):\n",
    "    if isinstance(releases_json, dict):\n",
    "        latest_release = [*releases_json.values()][0]\n",
    "        if latest_release:\n",
    "            return latest_release[0]['upload_time']\n",
    "    else:\n",
    "        return None"
   ],
   "metadata": {
    "collapsed": false,
    "pycharm": {
     "name": "#%%\n"
    }
   }
  },
  {
   "cell_type": "code",
   "execution_count": 6,
   "outputs": [],
   "source": [
    "upload_time_series: Series = pypi_data['releases'].map(extract_date_from_nested_releases_json)"
   ],
   "metadata": {
    "collapsed": false,
    "pycharm": {
     "name": "#%%\n"
    }
   }
  },
  {
   "cell_type": "code",
   "execution_count": 7,
   "outputs": [
    {
     "data": {
      "text/plain": "                     name version          upload_time  \\\n0       024travis-test024   0.1.0  2020-12-23T22:08:32   \n1          0x-order-utils   4.0.1  2021-02-21T15:59:48   \n2               0x-python  1.0.16  2021-03-14T03:06:40   \n3                  0x20bf   0.0.1  2021-08-15T16:26:14   \n4              0x2nac0nda     0.1  2021-10-06T14:34:56   \n...                   ...     ...                  ...   \n169616          zzy-AxCat     0.1  2022-04-28T01:59:28   \n169617             zzz001   0.0.4  2022-04-28T01:59:17   \n169618        zzzPyPiTest   0.0.2  2022-04-26T10:14:53   \n169619       zzzPyPiTest2   0.0.2  2022-04-28T02:02:26   \n169620       zzzeeksphinx   1.3.3  2022-04-11T11:22:09   \n\n                                               dependency              author  \n0                                                    None      Travis Torline  \n1       [0x-contract-addresses, 0x-contract-artifacts,...    F. Eugene Aumson  \n2                                              [requests]             Skeetzo  \n3       [PyYAML (==5.4.1), aiohttp (==3.7.4.post0), gn...       randymcmillan  \n4                                                    None  Abdalla Abdelrhman  \n...                                                   ...                 ...  \n169616                                               None                 zzy  \n169617                                           [PyYAML]          Jasper Jin  \n169618                                               None           zhaozizhe  \n169619                                               None           zhaozizhe  \n169620                                               None          Mike Bayer  \n\n[169621 rows x 5 columns]",
      "text/html": "<div>\n<style scoped>\n    .dataframe tbody tr th:only-of-type {\n        vertical-align: middle;\n    }\n\n    .dataframe tbody tr th {\n        vertical-align: top;\n    }\n\n    .dataframe thead th {\n        text-align: right;\n    }\n</style>\n<table border=\"1\" class=\"dataframe\">\n  <thead>\n    <tr style=\"text-align: right;\">\n      <th></th>\n      <th>name</th>\n      <th>version</th>\n      <th>upload_time</th>\n      <th>dependency</th>\n      <th>author</th>\n    </tr>\n  </thead>\n  <tbody>\n    <tr>\n      <th>0</th>\n      <td>024travis-test024</td>\n      <td>0.1.0</td>\n      <td>2020-12-23T22:08:32</td>\n      <td>None</td>\n      <td>Travis Torline</td>\n    </tr>\n    <tr>\n      <th>1</th>\n      <td>0x-order-utils</td>\n      <td>4.0.1</td>\n      <td>2021-02-21T15:59:48</td>\n      <td>[0x-contract-addresses, 0x-contract-artifacts,...</td>\n      <td>F. Eugene Aumson</td>\n    </tr>\n    <tr>\n      <th>2</th>\n      <td>0x-python</td>\n      <td>1.0.16</td>\n      <td>2021-03-14T03:06:40</td>\n      <td>[requests]</td>\n      <td>Skeetzo</td>\n    </tr>\n    <tr>\n      <th>3</th>\n      <td>0x20bf</td>\n      <td>0.0.1</td>\n      <td>2021-08-15T16:26:14</td>\n      <td>[PyYAML (==5.4.1), aiohttp (==3.7.4.post0), gn...</td>\n      <td>randymcmillan</td>\n    </tr>\n    <tr>\n      <th>4</th>\n      <td>0x2nac0nda</td>\n      <td>0.1</td>\n      <td>2021-10-06T14:34:56</td>\n      <td>None</td>\n      <td>Abdalla Abdelrhman</td>\n    </tr>\n    <tr>\n      <th>...</th>\n      <td>...</td>\n      <td>...</td>\n      <td>...</td>\n      <td>...</td>\n      <td>...</td>\n    </tr>\n    <tr>\n      <th>169616</th>\n      <td>zzy-AxCat</td>\n      <td>0.1</td>\n      <td>2022-04-28T01:59:28</td>\n      <td>None</td>\n      <td>zzy</td>\n    </tr>\n    <tr>\n      <th>169617</th>\n      <td>zzz001</td>\n      <td>0.0.4</td>\n      <td>2022-04-28T01:59:17</td>\n      <td>[PyYAML]</td>\n      <td>Jasper Jin</td>\n    </tr>\n    <tr>\n      <th>169618</th>\n      <td>zzzPyPiTest</td>\n      <td>0.0.2</td>\n      <td>2022-04-26T10:14:53</td>\n      <td>None</td>\n      <td>zhaozizhe</td>\n    </tr>\n    <tr>\n      <th>169619</th>\n      <td>zzzPyPiTest2</td>\n      <td>0.0.2</td>\n      <td>2022-04-28T02:02:26</td>\n      <td>None</td>\n      <td>zhaozizhe</td>\n    </tr>\n    <tr>\n      <th>169620</th>\n      <td>zzzeeksphinx</td>\n      <td>1.3.3</td>\n      <td>2022-04-11T11:22:09</td>\n      <td>None</td>\n      <td>Mike Bayer</td>\n    </tr>\n  </tbody>\n</table>\n<p>169621 rows × 5 columns</p>\n</div>"
     },
     "execution_count": 7,
     "metadata": {},
     "output_type": "execute_result"
    }
   ],
   "source": [
    "sorted_df.insert(loc=2, column='upload_time', value=upload_time_series)\n",
    "sorted_df"
   ],
   "metadata": {
    "collapsed": false,
    "pycharm": {
     "name": "#%%\n"
    }
   }
  },
  {
   "cell_type": "code",
   "execution_count": 8,
   "outputs": [
    {
     "data": {
      "text/plain": "                     name version          upload_time             dependency  \\\n0       024travis-test024   0.1.0  2020-12-23T22:08:32                   None   \n1          0x-order-utils   4.0.1  2021-02-21T15:59:48  0x-contract-addresses   \n2          0x-order-utils   4.0.1  2021-02-21T15:59:48  0x-contract-artifacts   \n3          0x-order-utils   4.0.1  2021-02-21T15:59:48        0x-json-schemas   \n4          0x-order-utils   4.0.1  2021-02-21T15:59:48             deprecated   \n...                   ...     ...                  ...                    ...   \n660143          zzy-AxCat     0.1  2022-04-28T01:59:28                   None   \n660144             zzz001   0.0.4  2022-04-28T01:59:17                 PyYAML   \n660145        zzzPyPiTest   0.0.2  2022-04-26T10:14:53                   None   \n660146       zzzPyPiTest2   0.0.2  2022-04-28T02:02:26                   None   \n660147       zzzeeksphinx   1.3.3  2022-04-11T11:22:09                   None   \n\n                  author  \n0         Travis Torline  \n1       F. Eugene Aumson  \n2       F. Eugene Aumson  \n3       F. Eugene Aumson  \n4       F. Eugene Aumson  \n...                  ...  \n660143               zzy  \n660144        Jasper Jin  \n660145         zhaozizhe  \n660146         zhaozizhe  \n660147        Mike Bayer  \n\n[660148 rows x 5 columns]",
      "text/html": "<div>\n<style scoped>\n    .dataframe tbody tr th:only-of-type {\n        vertical-align: middle;\n    }\n\n    .dataframe tbody tr th {\n        vertical-align: top;\n    }\n\n    .dataframe thead th {\n        text-align: right;\n    }\n</style>\n<table border=\"1\" class=\"dataframe\">\n  <thead>\n    <tr style=\"text-align: right;\">\n      <th></th>\n      <th>name</th>\n      <th>version</th>\n      <th>upload_time</th>\n      <th>dependency</th>\n      <th>author</th>\n    </tr>\n  </thead>\n  <tbody>\n    <tr>\n      <th>0</th>\n      <td>024travis-test024</td>\n      <td>0.1.0</td>\n      <td>2020-12-23T22:08:32</td>\n      <td>None</td>\n      <td>Travis Torline</td>\n    </tr>\n    <tr>\n      <th>1</th>\n      <td>0x-order-utils</td>\n      <td>4.0.1</td>\n      <td>2021-02-21T15:59:48</td>\n      <td>0x-contract-addresses</td>\n      <td>F. Eugene Aumson</td>\n    </tr>\n    <tr>\n      <th>2</th>\n      <td>0x-order-utils</td>\n      <td>4.0.1</td>\n      <td>2021-02-21T15:59:48</td>\n      <td>0x-contract-artifacts</td>\n      <td>F. Eugene Aumson</td>\n    </tr>\n    <tr>\n      <th>3</th>\n      <td>0x-order-utils</td>\n      <td>4.0.1</td>\n      <td>2021-02-21T15:59:48</td>\n      <td>0x-json-schemas</td>\n      <td>F. Eugene Aumson</td>\n    </tr>\n    <tr>\n      <th>4</th>\n      <td>0x-order-utils</td>\n      <td>4.0.1</td>\n      <td>2021-02-21T15:59:48</td>\n      <td>deprecated</td>\n      <td>F. Eugene Aumson</td>\n    </tr>\n    <tr>\n      <th>...</th>\n      <td>...</td>\n      <td>...</td>\n      <td>...</td>\n      <td>...</td>\n      <td>...</td>\n    </tr>\n    <tr>\n      <th>660143</th>\n      <td>zzy-AxCat</td>\n      <td>0.1</td>\n      <td>2022-04-28T01:59:28</td>\n      <td>None</td>\n      <td>zzy</td>\n    </tr>\n    <tr>\n      <th>660144</th>\n      <td>zzz001</td>\n      <td>0.0.4</td>\n      <td>2022-04-28T01:59:17</td>\n      <td>PyYAML</td>\n      <td>Jasper Jin</td>\n    </tr>\n    <tr>\n      <th>660145</th>\n      <td>zzzPyPiTest</td>\n      <td>0.0.2</td>\n      <td>2022-04-26T10:14:53</td>\n      <td>None</td>\n      <td>zhaozizhe</td>\n    </tr>\n    <tr>\n      <th>660146</th>\n      <td>zzzPyPiTest2</td>\n      <td>0.0.2</td>\n      <td>2022-04-28T02:02:26</td>\n      <td>None</td>\n      <td>zhaozizhe</td>\n    </tr>\n    <tr>\n      <th>660147</th>\n      <td>zzzeeksphinx</td>\n      <td>1.3.3</td>\n      <td>2022-04-11T11:22:09</td>\n      <td>None</td>\n      <td>Mike Bayer</td>\n    </tr>\n  </tbody>\n</table>\n<p>660148 rows × 5 columns</p>\n</div>"
     },
     "execution_count": 8,
     "metadata": {},
     "output_type": "execute_result"
    }
   ],
   "source": [
    "sorted_df = sorted_df.explode('dependency').reset_index(drop=True)\n",
    "sorted_df"
   ],
   "metadata": {
    "collapsed": false,
    "pycharm": {
     "name": "#%%\n"
    }
   }
  },
  {
   "cell_type": "markdown",
   "source": [
    "### Extracting information from the dependency string"
   ],
   "metadata": {
    "collapsed": false,
    "pycharm": {
     "name": "#%% md\n"
    }
   }
  },
  {
   "cell_type": "code",
   "execution_count": 9,
   "outputs": [
    {
     "data": {
      "text/plain": "              dependency_name dependency_version\n0                        None            >=0.0.0\n1       0x-contract-addresses            >=0.0.0\n2       0x-contract-artifacts            >=0.0.0\n3             0x-json-schemas            >=0.0.0\n4                  deprecated            >=0.0.0\n...                       ...                ...\n660143                   None            >=0.0.0\n660144                 PyYAML            >=0.0.0\n660145                   None            >=0.0.0\n660146                   None            >=0.0.0\n660147                   None            >=0.0.0\n\n[660148 rows x 2 columns]",
      "text/html": "<div>\n<style scoped>\n    .dataframe tbody tr th:only-of-type {\n        vertical-align: middle;\n    }\n\n    .dataframe tbody tr th {\n        vertical-align: top;\n    }\n\n    .dataframe thead th {\n        text-align: right;\n    }\n</style>\n<table border=\"1\" class=\"dataframe\">\n  <thead>\n    <tr style=\"text-align: right;\">\n      <th></th>\n      <th>dependency_name</th>\n      <th>dependency_version</th>\n    </tr>\n  </thead>\n  <tbody>\n    <tr>\n      <th>0</th>\n      <td>None</td>\n      <td>&gt;=0.0.0</td>\n    </tr>\n    <tr>\n      <th>1</th>\n      <td>0x-contract-addresses</td>\n      <td>&gt;=0.0.0</td>\n    </tr>\n    <tr>\n      <th>2</th>\n      <td>0x-contract-artifacts</td>\n      <td>&gt;=0.0.0</td>\n    </tr>\n    <tr>\n      <th>3</th>\n      <td>0x-json-schemas</td>\n      <td>&gt;=0.0.0</td>\n    </tr>\n    <tr>\n      <th>4</th>\n      <td>deprecated</td>\n      <td>&gt;=0.0.0</td>\n    </tr>\n    <tr>\n      <th>...</th>\n      <td>...</td>\n      <td>...</td>\n    </tr>\n    <tr>\n      <th>660143</th>\n      <td>None</td>\n      <td>&gt;=0.0.0</td>\n    </tr>\n    <tr>\n      <th>660144</th>\n      <td>PyYAML</td>\n      <td>&gt;=0.0.0</td>\n    </tr>\n    <tr>\n      <th>660145</th>\n      <td>None</td>\n      <td>&gt;=0.0.0</td>\n    </tr>\n    <tr>\n      <th>660146</th>\n      <td>None</td>\n      <td>&gt;=0.0.0</td>\n    </tr>\n    <tr>\n      <th>660147</th>\n      <td>None</td>\n      <td>&gt;=0.0.0</td>\n    </tr>\n  </tbody>\n</table>\n<p>660148 rows × 2 columns</p>\n</div>"
     },
     "execution_count": 9,
     "metadata": {},
     "output_type": "execute_result"
    }
   ],
   "source": [
    "dependency_version_series = sorted_df['dependency'].apply(version_extractor)\n",
    "dependency_name_series = sorted_df['dependency'].apply(name_extractor)\n",
    "\n",
    "# Used just for visual purposes\n",
    "dependencies_df = pd.concat([dependency_name_series, dependency_version_series], axis=1, ignore_index=True)\n",
    "dependencies_df.columns = ['dependency_name', 'dependency_version']\n",
    "dependencies_df"
   ],
   "metadata": {
    "collapsed": false,
    "pycharm": {
     "name": "#%%\n"
    }
   }
  },
  {
   "cell_type": "code",
   "execution_count": 10,
   "outputs": [],
   "source": [
    "sorted_df['dependency'] = dependency_name_series\n",
    "sorted_df.insert(4, 'dependency_version', dependency_version_series)"
   ],
   "metadata": {
    "collapsed": false,
    "pycharm": {
     "name": "#%%\n"
    }
   }
  },
  {
   "cell_type": "code",
   "execution_count": 14,
   "outputs": [
    {
     "data": {
      "text/plain": "name\n024travis-test024    {'name': '024travis-test024', 'versions': {'0....\n0x-order-utils       {'name': '0x-order-utils', 'versions': {'4.0.1...\n0x-python            {'name': '0x-python', 'versions': {'1.0.16': {...\n0x20bf               {'name': '0x20bf', 'versions': {'0.0.1': {'tim...\n0x2nac0nda           {'name': '0x2nac0nda', 'versions': {'0.1': {'t...\n                                           ...                        \nzzy-AxCat            {'name': 'zzy-AxCat', 'versions': {'0.1': {'ti...\nzzz001               {'name': 'zzz001', 'versions': {'0.0.4': {'tim...\nzzzPyPiTest          {'name': 'zzzPyPiTest', 'versions': {'0.0.2': ...\nzzzPyPiTest2         {'name': 'zzzPyPiTest2', 'versions': {'0.0.2':...\nzzzeeksphinx         {'name': 'zzzeeksphinx', 'versions': {'1.3.3':...\nLength: 169165, dtype: object"
     },
     "execution_count": 14,
     "metadata": {},
     "output_type": "execute_result"
    }
   ],
   "source": [
    "def convert_to_normalized_format(grouped_df: DataFrame):\n",
    "    # print(grouped_df)\n",
    "    normalized_form = {\n",
    "        # We know the name is the same for all rows\n",
    "        'name': grouped_df['name'].iloc[0],\n",
    "        'versions': {}\n",
    "    }\n",
    "    for index, version in enumerate(grouped_df['version']):\n",
    "        normalized_form['versions'][version] = {\n",
    "            'timestamp': grouped_df['upload_time'].iloc[index],\n",
    "            'dependencies': {}\n",
    "        }\n",
    "        for dependency, dependency_version in zip(grouped_df['dependency'], grouped_df['dependency_version']):\n",
    "            # Some packages might have no dependencies\n",
    "            if dependency is not None:\n",
    "                normalized_form['versions'][version]['dependencies'][dependency] = dependency_version\n",
    "\n",
    "    return normalized_form\n",
    "\n",
    "# Only drop entries if they are missing required info for name, version and upload_time\n",
    "normalized_df: DataFrame = sorted_df.copy().dropna(subset=['name', 'version', 'upload_time'])\n",
    "normalized_json_df = normalized_df.groupby('name').apply(convert_to_normalized_format)\n",
    "normalized_json_df"
   ],
   "metadata": {
    "collapsed": false,
    "pycharm": {
     "name": "#%%\n"
    }
   }
  },
  {
   "cell_type": "markdown",
   "source": [
    "### Saving the processed data to file"
   ],
   "metadata": {
    "collapsed": false,
    "pycharm": {
     "name": "#%% md\n"
    }
   }
  },
  {
   "cell_type": "code",
   "execution_count": 15,
   "outputs": [],
   "source": [
    "normalized_df.to_csv('../../data/output/pypi-repology-dependencies.csv', index=False)\n",
    "normalized_json_df.to_json('../../data/output/pypi-repology-dependencies.json', orient='records')"
   ],
   "metadata": {
    "collapsed": false,
    "pycharm": {
     "name": "#%%\n"
    }
   }
  },
  {
   "cell_type": "markdown",
   "source": [
    "## Converting Releases JSON to a DataFrame\n",
    "Decided against using releases as they do not contain meaningful information. Most of the time they only contain the most recent version that can be recovered from the info JSON"
   ],
   "metadata": {
    "collapsed": false,
    "pycharm": {
     "name": "#%% md\n"
    }
   }
  },
  {
   "cell_type": "code",
   "execution_count": null,
   "outputs": [],
   "source": [
    "# releases_df = pd.DataFrame(pypi_data['releases'].values.tolist()) --- Runs out of memory\n",
    "# releases_df = pypi_data['releases'].map(lambda x: x.keys())"
   ],
   "metadata": {
    "collapsed": false,
    "pycharm": {
     "name": "#%%\n"
    }
   }
  },
  {
   "cell_type": "markdown",
   "source": [
    "### Bits and bobs that were tinkered with but were scrapped"
   ],
   "metadata": {
    "collapsed": false,
    "pycharm": {
     "name": "#%% md\n"
    }
   }
  },
  {
   "cell_type": "code",
   "execution_count": null,
   "outputs": [],
   "source": [
    "# test = pypi_data['info'].apply(lambda el: json.loads(json.dumps(el)))\n",
    "# test\n",
    "# pypi_data['info'][0]\n"
   ],
   "metadata": {
    "collapsed": false,
    "pycharm": {
     "name": "#%%\n"
    }
   }
  },
  {
   "cell_type": "code",
   "execution_count": null,
   "outputs": [],
   "source": [
    "# pypi_data['info'].to_json('../../data/repology/pypi_info.json', orient='records', lines=True)"
   ],
   "metadata": {
    "collapsed": false,
    "pycharm": {
     "name": "#%%\n"
    }
   }
  },
  {
   "cell_type": "code",
   "execution_count": null,
   "outputs": [],
   "source": [
    "# pypi_data_reduced = pd.read_json('../../data/repology/pypi_info.json', orient='records', lines=True)"
   ],
   "metadata": {
    "collapsed": false,
    "pycharm": {
     "name": "#%%\n"
    }
   }
  },
  {
   "cell_type": "code",
   "execution_count": null,
   "outputs": [],
   "source": [
    "# pypi_data_reduced.dropna(subset=['requires_dist'], inplace=True)\n",
    "# pypi_data_reduced.reset_index(drop=True, inplace=True)\n",
    "# # pypi_data_reduced['requires_dist'] = pypi_data_reduced['requires_dist'].apply(json.loads)\n",
    "# pypi_data_reduced['requires_dist'] = [','.join(x) for x in pypi_data_reduced['requires_dist']]\n",
    "# pypi_data_reduced[['name', 'requires_dist']]\n",
    "# Select from pypi_data_reduced all the data that has name zzzzls-Spider\n",
    "# pypi_data_reduced[pypi_data_reduced['name'] == 'pandas']['requires_dist'].values[0]\n",
    "# pypi_data_reduced['']"
   ],
   "metadata": {
    "collapsed": false,
    "pycharm": {
     "name": "#%%\n"
    }
   }
  },
  {
   "cell_type": "code",
   "execution_count": null,
   "outputs": [],
   "source": [
    "# with open('../../data/repology/pypicache.json', 'r') as file:\n",
    "#     json_data = json.load(file)"
   ],
   "metadata": {
    "collapsed": false,
    "pycharm": {
     "name": "#%%\n"
    }
   }
  },
  {
   "cell_type": "code",
   "execution_count": null,
   "outputs": [],
   "source": [
    "# nested_json_data = pd.json_normalize(json_data, max_level=2)\n",
    "# nested_json_data"
   ],
   "metadata": {
    "collapsed": false,
    "pycharm": {
     "name": "#%%\n"
    }
   }
  },
  {
   "cell_type": "code",
   "execution_count": null,
   "outputs": [],
   "source": [
    "# chunks = pd.read_json('../../data/repology/pypicache.json', lines=True, chunksize=100000)\n",
    "#\n",
    "# for chunk in chunks:\n",
    "#     display(chunk)"
   ],
   "metadata": {
    "collapsed": false,
    "pycharm": {
     "name": "#%%\n"
    }
   }
  },
  {
   "cell_type": "code",
   "execution_count": null,
   "outputs": [],
   "source": [
    "# Initial method for converting to a normalized format. Was hard to read, and it contained quite a few bugs. Decided it was better to rewrite it\n",
    "# def convert_to_normalized_format(grouped_df: DataFrameGroupBy):\n",
    "#     return_list = []\n",
    "#     for _, rows in grouped_df:\n",
    "#         inner_dict = {\n",
    "#             'name': rows['name'].values[0],\n",
    "#             'versions': {\n",
    "#                 rows['version'].values[0]: {\n",
    "#                     'timestamp': rows['upload_time'].values[0],\n",
    "#                     'dependencies': {}\n",
    "#                 }\n",
    "#             }\n",
    "#         }\n",
    "#         for dep, v in zip(rows['dependency'].values, rows['dependency_version'].values):\n",
    "#             inner_dict['versions'][rows['version'].values[0]]['dependencies'] |= {dep: v}\n",
    "#         return_list.append(inner_dict)\n",
    "#     return pd.DataFrame(return_list)"
   ],
   "metadata": {
    "collapsed": false,
    "pycharm": {
     "name": "#%%\n"
    }
   }
  },
  {
   "cell_type": "code",
   "execution_count": null,
   "outputs": [],
   "source": [
    "# normalized_df: DataFrame = info_df.copy().dropna()\n",
    "# display(normalized_df.loc[normalized_df['name'] == '024travis-test024'])\n",
    "# normalized_json_df = normalized_df.groupby('name').pipe(convert_to_normalized_format)\n",
    "# normalized_json_df"
   ],
   "metadata": {
    "collapsed": false,
    "pycharm": {
     "name": "#%%\n"
    }
   }
  },
  {
   "cell_type": "code",
   "execution_count": null,
   "outputs": [],
   "source": [
    "# Attempt to use multiprocessing. Ended up not using it since I discovered that using built-in strings is extremely fast compared to regex.\n",
    "# cores = multiprocessing.cpu_count()\n",
    "# chunks = np.array_split(info_df['dependency'], cores)\n",
    "#\n",
    "# with Pool(cores) as pool:\n",
    "#     processed = pd.concat(pool.map(extract_semantic_version, chunks), ignore_index=True)\n",
    "\n",
    "# processed\n",
    "# info_df.dependency.str.extract(compiled_rx)"
   ],
   "metadata": {
    "collapsed": false,
    "pycharm": {
     "name": "#%%\n"
    }
   }
  }
 ],
 "metadata": {
  "kernelspec": {
   "display_name": "Python 3",
   "language": "python",
   "name": "python3"
  },
  "language_info": {
   "codemirror_mode": {
    "name": "ipython",
    "version": 2
   },
   "file_extension": ".py",
   "mimetype": "text/x-python",
   "name": "python",
   "nbconvert_exporter": "python",
   "pygments_lexer": "ipython2",
   "version": "2.7.6"
  }
 },
 "nbformat": 4,
 "nbformat_minor": 0
}