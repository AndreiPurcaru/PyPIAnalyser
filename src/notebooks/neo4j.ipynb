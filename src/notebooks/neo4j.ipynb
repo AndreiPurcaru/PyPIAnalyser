{
 "cells": [
  {
   "cell_type": "code",
   "execution_count": 1,
   "metadata": {
    "collapsed": true,
    "pycharm": {
     "name": "#%%\n"
    }
   },
   "outputs": [],
   "source": [
    "# from neo4j import GraphDatabase, Neo4jDriver\n",
    "#\n",
    "#\n",
    "# class GraphDB:\n",
    "#     driver: Neo4jDriver\n",
    "#\n",
    "#     def __init__(self, uri, user, password):\n",
    "#         self.driver = GraphDatabase.driver(uri, auth=(user, password))\n",
    "#\n",
    "#     def __enter__(self):\n",
    "#         return self\n",
    "#\n",
    "#     def __exit__(self, exc_type, exc_val, exc_tb):\n",
    "#         self.driver.close()\n",
    "#\n",
    "#     def add_nodes(self, packages: list[dict[str, dict]]):\n",
    "#         with self.driver.session() as session:\n",
    "#             for package in packages:\n",
    "#                 for version_name, version_data in package['versions'].items():\n",
    "#                     session.run(\"CREATE (n:NameVersion {name: $name, version: $version, timestamp: $timestamp})\",\n",
    "#                                 name=package['name'], version=version_name, timestamp=version_data['timestamp'])\n",
    "#             # greeting = session.write_transaction(self._create_and_return_greeting, message)\n",
    "#             # print(greeting)\n"
   ]
  },
  {
   "cell_type": "code",
   "execution_count": 2,
   "outputs": [],
   "source": [
    "# import json\n",
    "#\n",
    "# data: list[dict[str, dict]]\n",
    "# with open('../../data/output/pypi-bq-dependencies420k-old.json', 'r') as file:\n",
    "#     data = json.load(file)\n",
    "# with GraphDB(\"bolt://localhost:7687\", \"neo4j\", \"softwareThatMatters\") as db:\n",
    "#     db.add_nodes(data)"
   ],
   "metadata": {
    "collapsed": false,
    "pycharm": {
     "name": "#%%\n"
    }
   }
  },
  {
   "cell_type": "code",
   "execution_count": 3,
   "outputs": [],
   "source": [
    "from py2neo import Graph\n",
    "\n",
    "graph = Graph('bolt://localhost:7687', auth=('neo4j', 'softwareThatMatters'))"
   ],
   "metadata": {
    "collapsed": false,
    "pycharm": {
     "name": "#%%\n"
    }
   }
  },
  {
   "cell_type": "code",
   "execution_count": 4,
   "outputs": [],
   "source": [
    "from py2neo.bulk import create_nodes\n",
    "import json\n",
    "\n",
    "input_data:  dict[str, dict[str, dict]]\n",
    "with open('../../data/output/neo4j_data.json', 'r') as file:\n",
    "    input_data = json.load(file)\n",
    "\n",
    "keys = ['name', 'version', 'timestamp']\n",
    "nodes: list[list] = []\n",
    "for package in input_data.values():\n",
    "    for version_name, version_data in package['versions'].items():\n",
    "        nodes.append([package['name'], version_name, version_data['timestamp']])"
   ],
   "metadata": {
    "collapsed": false,
    "pycharm": {
     "name": "#%%\n"
    }
   }
  },
  {
   "cell_type": "code",
   "execution_count": 7,
   "outputs": [],
   "source": [
    "import numpy as np\n",
    "\n",
    "batch_size = 1_000_000\n",
    "\n",
    "batches = np.array_split(nodes, batch_size)\n",
    "\n",
    "for batch in batches:\n",
    "    create_nodes(graph.auto(), batch.tolist(), labels={\"NameVersion\"}, keys=keys)"
   ],
   "metadata": {
    "collapsed": false,
    "pycharm": {
     "name": "#%%\n"
    }
   }
  },
  {
   "cell_type": "code",
   "execution_count": 8,
   "outputs": [],
   "source": [
    "from py2neo.bulk import create_relationships\n",
    "\n",
    "\n",
    "def create_relationship_data(pack:dict[str, dict]):\n",
    "    relationship_data = []\n",
    "    for index, (version_name, version_data) in enumerate(pack['versions'].items()):\n",
    "        dependent_info = (package['name'], version_name, version_data['timestamp'])\n",
    "        for dependency_name, dependency_version_constraint in version_data['dependencies'].items():\n",
    "\n",
    "            try:\n",
    "                spec = SimpleSpec(dependency_version_constraint)\n",
    "            except ValueError:\n",
    "                # Ignore dependencies with non-standard formats\n",
    "                continue\n",
    "\n",
    "            if dependency_name in input_data:\n",
    "                for dependency_version in input_data[dependency_name]['versions'].keys():\n",
    "                    try:\n",
    "                        semver_version = Version.coerce(dependency_version)\n",
    "                    except ValueError:\n",
    "                        continue\n",
    "\n",
    "                    if spec.match(semver_version):\n",
    "                        dependency_info = (dependency_name, dependency_version, input_data[dependency_name]['versions'][dependency_version]['timestamp'])\n",
    "                        relationship_data.append((dependent_info, {}, dependency_info))\n",
    "\n",
    "        if index % 100_000:\n",
    "            create_relationships(graph.auto(), relationship_data, \"DEPENDS_ON\", start_node_key=('NameVersion', 'name', 'version', 'timestamp'), end_node_key=('NameVersion', 'name', 'version', 'timestamp'))\n",
    "            relationship_data.clear()\n",
    "            print((index / len(pack['versions'])) * 100, \"% done\")\n",
    "    # return relationship_data"
   ],
   "metadata": {
    "collapsed": false,
    "pycharm": {
     "name": "#%%\n"
    }
   }
  },
  {
   "cell_type": "code",
   "execution_count": null,
   "outputs": [],
   "source": [
    "import multiprocessing\n",
    "from multiprocessing import Pool\n",
    "from semantic_version import SimpleSpec, Version\n",
    "\n",
    "\n",
    "\n",
    "# This could be converted to a multiprocessing pool\n",
    "# for package in input_data.values():\n",
    "\n",
    "with Pool(multiprocessing.cpu_count()) as pool:\n",
    "    # results = pool.map(create_relationship_data, input_data.values())\n",
    "    pool.map(create_relationship_data, input_data.values())\n",
    "\n",
    "# flat_results = sum(results, [])\n",
    "            # compatible_dependency_versions = spec.filter((Version.coerce(version) for version in input_data[dependency_name]['versions'].keys()))\n",
    "            # for compatible_dependency_version in compatible_dependency_versions:\n",
    "            #     compatible_dependency_version_str = str(compatible_dependency_version)\n",
    "            #     dependency_info = (dependency_name, compatible_dependency_version_str, input_data[dependency_name]['versions'][compatible_dependency_version_str]['timestamp'])\n",
    "            #     relationship_data.append((dependent_info, {}, dependency_info))\n",
    "# flat_results[:100]"
   ],
   "metadata": {
    "collapsed": false,
    "pycharm": {
     "name": "#%%\n",
     "is_executing": true
    }
   }
  }
 ],
 "metadata": {
  "kernelspec": {
   "display_name": "Python 3",
   "language": "python",
   "name": "python3"
  },
  "language_info": {
   "codemirror_mode": {
    "name": "ipython",
    "version": 2
   },
   "file_extension": ".py",
   "mimetype": "text/x-python",
   "name": "python",
   "nbconvert_exporter": "python",
   "pygments_lexer": "ipython2",
   "version": "2.7.6"
  }
 },
 "nbformat": 4,
 "nbformat_minor": 0
}