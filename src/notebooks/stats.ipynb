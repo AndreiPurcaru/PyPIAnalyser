{
 "cells": [
  {
   "cell_type": "markdown",
   "source": [
    "### This ended up not being used"
   ],
   "metadata": {
    "collapsed": false,
    "pycharm": {
     "name": "#%% md\n"
    }
   }
  },
  {
   "cell_type": "code",
   "execution_count": null,
   "metadata": {
    "collapsed": true,
    "pycharm": {
     "name": "#%%\n"
    }
   },
   "outputs": [],
   "source": [
    "import json\n",
    "from dataclasses import dataclass, field\n",
    "from typing import Union\n",
    "\n",
    "import numpy as np"
   ]
  },
  {
   "cell_type": "code",
   "execution_count": null,
   "outputs": [],
   "source": [
    "input_data: dict[str, dict[str, Union[dict, str]]]\n",
    "with open('../../data/output/bq_no_extra_stats.json', 'r') as file:\n",
    "    input_data = json.load(file)\n",
    "input_data_list = input_data.values()"
   ],
   "metadata": {
    "collapsed": false,
    "pycharm": {
     "name": "#%%\n"
    }
   }
  },
  {
   "cell_type": "code",
   "execution_count": null,
   "outputs": [],
   "source": [
    "np.set_printoptions(suppress=True)"
   ],
   "metadata": {
    "collapsed": false,
    "pycharm": {
     "name": "#%%\n"
    }
   }
  },
  {
   "cell_type": "code",
   "execution_count": null,
   "outputs": [],
   "source": [
    "@dataclass\n",
    "class DependencyCalculator:\n",
    "    packages: dict[str, dict[str, Union[dict, str]]]\n",
    "    dependencies: dict[str, int] = field(default_factory=dict)\n",
    "\n",
    "    def calculate_amount_of_dependencies(self, package: dict[str, Union[dict, str]], transitive: bool):\n",
    "        package_name = package['name']\n",
    "        # This means we have already calculated the deps for this package\n",
    "        if self.dependencies.get(package_name) is not None:\n",
    "            return self.dependencies[package_name]\n",
    "\n",
    "        self.dependencies[package_name] = 0\n",
    "        for version_name, version_data in package['versions'].items():\n",
    "            if len(version_data['dependencies']):\n",
    "                for dependency_name in version_data['dependencies'].keys():\n",
    "                    dependency = self.packages.get(dependency_name)\n",
    "                    if dependency is None:\n",
    "                        continue\n",
    "                    if transitive:\n",
    "                        self.dependencies[package_name] += self.calculate_amount_of_dependencies(dependency,\n",
    "                                                                                                 transitive) + 1\n",
    "                    else:\n",
    "                        self.dependencies[package_name] += 1\n",
    "                # if transitive:\n",
    "                #     self.dependencies[package_name] /= len(version_data['dependencies'])\n",
    "                break\n",
    "        return self.dependencies[package_name]\n",
    "\n",
    "    def calculate(self, transitive: bool):\n",
    "        self.reset()\n",
    "        for package in self.packages.values():\n",
    "            if self.dependencies.get(package['name']) is None:\n",
    "                self.calculate_amount_of_dependencies(package, transitive)\n",
    "\n",
    "    def reset(self):\n",
    "        self.dependencies.clear()"
   ],
   "metadata": {
    "collapsed": false,
    "pycharm": {
     "name": "#%%\n"
    }
   }
  },
  {
   "cell_type": "code",
   "execution_count": null,
   "outputs": [],
   "source": [
    "def geo_mean(iterable):\n",
    "    a = np.array(iterable)\n",
    "    return a.prod() ** (1.0 / len(a))"
   ],
   "metadata": {
    "collapsed": false,
    "pycharm": {
     "name": "#%%\n"
    }
   }
  },
  {
   "cell_type": "code",
   "execution_count": null,
   "outputs": [],
   "source": [
    "transitive_dependency_calculator = DependencyCalculator(input_data)\n",
    "transitive_dependency_calculator.calculate(transitive=True)\n",
    "transitive_list = list(transitive_dependency_calculator.dependencies.values())\n",
    "\n",
    "print(np.mean(transitive_list))\n",
    "print(np.median(transitive_list))\n",
    "print(np.std(transitive_list))\n",
    "print(np.max(transitive_list))"
   ],
   "metadata": {
    "collapsed": false,
    "pycharm": {
     "name": "#%%\n"
    }
   }
  },
  {
   "cell_type": "code",
   "execution_count": null,
   "outputs": [],
   "source": [
    "transitive_list_no_zero = list(filter(lambda x: x > 0, transitive_list))\n",
    "print(np.mean(transitive_list_no_zero))\n",
    "print(np.median(transitive_list_no_zero))\n",
    "print(np.std(transitive_list_no_zero))\n",
    "print(np.max(transitive_list_no_zero))"
   ],
   "metadata": {
    "collapsed": false,
    "pycharm": {
     "name": "#%%\n"
    }
   }
  },
  {
   "cell_type": "code",
   "execution_count": null,
   "outputs": [],
   "source": [
    "direct_dependency_calculator = DependencyCalculator(input_data)\n",
    "direct_dependency_calculator.calculate(transitive=False)\n",
    "direct_list = list(direct_dependency_calculator.dependencies.values())\n",
    "print(np.mean(direct_list))\n",
    "print(np.median(direct_list))\n",
    "print(np.std(direct_list))\n",
    "print(np.max(direct_list))"
   ],
   "metadata": {
    "collapsed": false,
    "pycharm": {
     "name": "#%%\n"
    }
   }
  },
  {
   "cell_type": "code",
   "execution_count": null,
   "outputs": [],
   "source": [],
   "metadata": {
    "collapsed": false,
    "pycharm": {
     "name": "#%%\n"
    }
   }
  }
 ],
 "metadata": {
  "kernelspec": {
   "display_name": "Python 3",
   "language": "python",
   "name": "python3"
  },
  "language_info": {
   "codemirror_mode": {
    "name": "ipython",
    "version": 2
   },
   "file_extension": ".py",
   "mimetype": "text/x-python",
   "name": "python",
   "nbconvert_exporter": "python",
   "pygments_lexer": "ipython2",
   "version": "2.7.6"
  }
 },
 "nbformat": 4,
 "nbformat_minor": 0
}