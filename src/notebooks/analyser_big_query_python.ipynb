{
 "cells": [
  {
   "cell_type": "code",
   "execution_count": null,
   "outputs": [],
   "source": [
    "import json\n",
    "\n",
    "import polars as pl\n",
    "\n",
    "from src.lib import version_extractor, name_extractor"
   ],
   "metadata": {
    "collapsed": false,
    "pycharm": {
     "name": "#%%\n"
    }
   }
  },
  {
   "cell_type": "code",
   "execution_count": null,
   "metadata": {
    "collapsed": true,
    "pycharm": {
     "name": "#%%\n"
    }
   },
   "outputs": [],
   "source": [
    "df = pl.read_json('../../data/big_query/bq_results.json', json_lines=True)"
   ]
  },
  {
   "cell_type": "code",
   "execution_count": null,
   "outputs": [],
   "source": [
    "df_sorted = df.sort(['name', 'version', 'upload_time'], reverse=[False, True, False])\n",
    "print(df_sorted)"
   ],
   "metadata": {
    "collapsed": false,
    "pycharm": {
     "name": "#%%\n"
    }
   }
  },
  {
   "cell_type": "code",
   "execution_count": null,
   "outputs": [],
   "source": [
    "# Eliminate duplicates\n",
    "df_unique = df_sorted.unique(subset=['name', 'version'])\n",
    "print(df_unique)"
   ],
   "metadata": {
    "collapsed": false,
    "pycharm": {
     "name": "#%%\n"
    }
   }
  },
  {
   "cell_type": "code",
   "execution_count": null,
   "outputs": [],
   "source": [
    "# Used to find the true number of packages\n",
    "print(len(df_unique.groupby('name').groups()))"
   ],
   "metadata": {
    "collapsed": false,
    "pycharm": {
     "name": "#%%\n"
    }
   }
  },
  {
   "cell_type": "code",
   "execution_count": null,
   "outputs": [],
   "source": [
    "from datetime import datetime\n",
    "\n",
    "\n",
    "def convert_to_rfc3339(date: str):\n",
    "    try:\n",
    "        parsed_date = datetime.strptime(date, \"%Y-%m-%d %H:%M:%S.%f %Z\").astimezone()\n",
    "    except ValueError:\n",
    "        parsed_date = datetime.strptime(date, \"%Y-%m-%d %H:%M:%S %Z\").astimezone()\n",
    "    return str(parsed_date.isoformat())"
   ],
   "metadata": {
    "collapsed": false,
    "pycharm": {
     "name": "#%%\n"
    }
   }
  },
  {
   "cell_type": "code",
   "execution_count": null,
   "outputs": [],
   "source": [
    "df_normalized_time = df_unique.with_columns([\n",
    "    pl.col('upload_time').apply(convert_to_rfc3339)\n",
    "])\n",
    "print(df_normalized_time)"
   ],
   "metadata": {
    "collapsed": false,
    "pycharm": {
     "name": "#%%\n"
    }
   }
  },
  {
   "cell_type": "code",
   "execution_count": null,
   "outputs": [],
   "source": [
    "data = json.loads(df_normalized_time.to_pandas().to_json(orient='records'))"
   ],
   "metadata": {
    "collapsed": false,
    "pycharm": {
     "name": "#%%\n"
    }
   }
  },
  {
   "cell_type": "code",
   "execution_count": null,
   "outputs": [],
   "source": [
    "def extract_name_and_version(dependency_version_string: str) -> (str, str):\n",
    "    if dependency_version_string.find(\"extra\") != -1:\n",
    "        return None, None\n",
    "    dep_name = name_extractor(dependency_version_string)\n",
    "    dep_version = version_extractor(dependency_version_string)\n",
    "    if dep_name and version:\n",
    "        return dep_name, dep_version\n",
    "\n",
    "results: dict[str, dict[str, dict]] = {}\n",
    "\n",
    "for index, dictionary in enumerate(data):\n",
    "    name = dictionary['name']\n",
    "    version = dictionary['version']\n",
    "    upload_time = dictionary['upload_time']\n",
    "\n",
    "    if name not in results:\n",
    "        normalized_form = {\n",
    "            'name': name,\n",
    "            'versions': {}\n",
    "        }\n",
    "    else:\n",
    "        normalized_form = results.get(name)\n",
    "\n",
    "    normalized_form['versions'][version] = {\n",
    "        'timestamp': upload_time,\n",
    "        'dependencies': {}\n",
    "    }\n",
    "\n",
    "    for dep in dictionary['requires_dist']:\n",
    "\n",
    "        dependency_name, dependency_version = extract_name_and_version(dep)\n",
    "        # Only add dependency if we successfully extracted its name and version\n",
    "        if dependency_name is not None and dependency_version is not None:\n",
    "            normalized_form['versions'][version]['dependencies'][dependency_name] = dependency_version\n",
    "    results[name] = normalized_form\n",
    "\n",
    "del data\n",
    "# results"
   ],
   "metadata": {
    "collapsed": false,
    "pycharm": {
     "name": "#%%\n"
    }
   }
  },
  {
   "cell_type": "code",
   "execution_count": null,
   "outputs": [],
   "source": [
    "final_result = {'pkgs': list(results.values())}\n",
    "# Uncomment next line to use the old format for the JSON file\n",
    "# final_result = list(results.values())\n",
    "\n",
    "with open('../../data/output/pypi-bq-dependencies420k-no-extra-correct.json', 'w') as file:\n",
    "    json.dump(final_result, file)"
   ],
   "metadata": {
    "collapsed": false,
    "pycharm": {
     "name": "#%%\n"
    }
   }
  },
  {
   "cell_type": "code",
   "execution_count": null,
   "outputs": [],
   "source": [],
   "metadata": {
    "collapsed": false,
    "pycharm": {
     "name": "#%%\n"
    }
   }
  }
 ],
 "metadata": {
  "kernelspec": {
   "display_name": "Python 3",
   "language": "python",
   "name": "python3"
  },
  "language_info": {
   "codemirror_mode": {
    "name": "ipython",
    "version": 2
   },
   "file_extension": ".py",
   "mimetype": "text/x-python",
   "name": "python",
   "nbconvert_exporter": "python",
   "pygments_lexer": "ipython2",
   "version": "2.7.6"
  }
 },
 "nbformat": 4,
 "nbformat_minor": 0
}